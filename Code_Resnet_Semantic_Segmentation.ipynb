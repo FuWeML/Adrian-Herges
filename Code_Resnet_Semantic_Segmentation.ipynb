{
  "nbformat": 4,
  "nbformat_minor": 0,
  "metadata": {
    "colab": {
      "provenance": []
    },
    "kernelspec": {
      "name": "python3",
      "display_name": "Python 3"
    },
    "language_info": {
      "name": "python"
    }
  },
  "cells": [
    {
      "cell_type": "markdown",
      "metadata": {
        "id": "Mw5_e1qQhe90"
      },
      "source": [
        "# Project Seminar Data Science and Ai SS2022\n",
        "### Code for Resnet Models\n",
        "\n",
        "Disclaimer: Most of the options and training procedures I chose and which I commented are base on observations I made in the project, they might not be generalisable.\n",
        "\n",
        "Content\n",
        "- Environment installation\n",
        "- problem 1 - data\n",
        "- problem 1 - model\n",
        "- problem 1 - validation\n",
        "- problem 2 - data\n",
        "- problem 2 - model\n",
        "- problem 2 - validation\n",
        "\n",
        "\n",
        "I mainly used the fastai library for the project.\n",
        "https://docs.fast.ai/\n",
        "\n",
        "### Important notes\n",
        "\n",
        "- the image names have to be exacly as specified in this notebook otherwise the images cannot be labeled any more, otherwise the functions label_functions and get_mask have to be adapted\n",
        "- the models in this notebook are called learn for problem 1 and learn2 for problem 2\n",
        "- the notebook was created and run on Google Colab so some adaptions are necessary when running it somewhere else\n",
        "- the notebook was run once completely to show that it runs without errors, however training procedures might look wired (mostly overtrained), as they have to be finetuned at evey run, saved models especially for problem 2 are not created exacly from this notebook"
      ]
    },
    {
      "cell_type": "code",
      "execution_count": null,
      "metadata": {
        "id": "1oMFJ7PkH8Fw",
        "colab": {
          "base_uri": "https://localhost:8080/"
        },
        "outputId": "d0965926-9081-48fb-941f-d3a51d9e0312"
      },
      "outputs": [
        {
          "output_type": "stream",
          "name": "stdout",
          "text": [
            "Mounted at /content/drive/\n"
          ]
        }
      ],
      "source": [
        "from google.colab import drive\n",
        "import os\n",
        "drive.mount('/content/drive/')"
      ]
    },
    {
      "cell_type": "markdown",
      "metadata": {
        "id": "T3-qjWMNuDD0"
      },
      "source": [
        "## Problem 2 - Semantische Segmentierung\n",
        "\n",
        "For Problem 2 we do the same steps as for problem 1: load data, create dataloader, define model, train model, test model."
      ]
    },
    {
      "cell_type": "markdown",
      "metadata": {
        "id": "pveR_D4XuC40"
      },
      "source": [
        "### Load Data\n",
        "Here we have to load two folders, the pictures and their respective masks."
      ]
    },
    {
      "cell_type": "code",
      "execution_count": null,
      "metadata": {
        "id": "LxiSqxxruGTO",
        "colab": {
          "base_uri": "https://localhost:8080/"
        },
        "outputId": "0499868c-2b20-4843-b5d9-847b08616ad5"
      },
      "outputs": [
        {
          "output_type": "stream",
          "name": "stdout",
          "text": [
            "['Result901.png', 'Result902.png', 'Result903.png', 'Result904.png', 'Result905.png', 'Result906.png', 'Result907.png', 'Result908.png', 'Result909.png', 'Result911.png', 'Result910.png', 'Result912.png', 'Result913.png', 'Result914.png', 'Result915.png', 'Result917.png', 'Result916.png', 'Result919.png', 'Result918.png', 'Result920.png', 'Result922.png', 'Result921.png', 'Result923.png', 'Result924.png', 'Result925.png', 'Result926.png', 'Result927.png', 'Result928.png', 'Result929.png', 'Result930.png', 'Result931.png', 'Result932.png', 'Result933.png', 'Result934.png', 'Result936.png', 'Result935.png', 'Result937.png', 'Result938.png', 'Result939.png', 'Result940.png', 'Result942.png', 'Result941.png', 'Result943.png', 'Result945.png', 'Result944.png', 'Result946.png', 'Result947.png', 'Result948.png', 'Result949.png', 'Result950.png', 'Result951.png', 'Result952.png', 'Result953.png', 'Result954.png', 'Result955.png', 'Result956.png', 'Result957.png', 'Result958.png', 'Result959.png', 'Result960.png', 'Result961.png', 'Result962.png', 'Result963.png', 'Result964.png', 'Result965.png', 'Result966.png', 'Result967.png', 'Result968.png', 'Result970.png', 'Result969.png', 'Result971.png', 'Result972.png', 'Result973.png', 'Result974.png', 'Result975.png', 'Result976.png', 'Result977.png', 'Result978.png', 'Result979.png', 'Result980.png', 'Result981.png', 'Result982.png', 'Result983.png', 'Result984.png', 'Result985.png', 'Result986.png', 'Result987.png', 'Result988.png', 'Result989.png', 'Result990.png', 'Result991.png', 'Result992.png', 'Result993.png', 'Result994.png', 'Result995.png', 'Result996.png', 'Result997.png', 'Result998.png', 'Result999.png', 'Result4128.png', 'Result4129.png', 'Result4130.png', 'Result4131.png', 'Result4132.png', 'Result4133.png', 'Result4134.png', 'Result4135.png', 'Result4136.png', 'Result4137.png', 'Result4138.png', 'Result4139.png', 'Result4140.png', 'Result4141.png', 'Result4142.png', 'Result4143.png', 'Result4144.png', 'Result4145.png', 'Result4146.png', 'Result4147.png', 'Result4148.png', 'Result4149.png', 'Result4150.png', 'Result4151.png', 'Result4153.png', 'Result4152.png', 'Result4154.png', 'Result4155.png', 'Result4156.png', 'Result4157.png', 'Result4158.png', 'Result4159.png', 'Result4160.png', 'Result4161.png', 'Result4162.png', 'Result4163.png', 'Result4164.png', 'Result4165.png', 'Result4166.png', 'Result4167.png', 'Result4168.png', 'Result4169.png', 'Result4170.png', 'Result4171.png', 'Result4173.png', 'Result4172.png', 'Result4174.png', 'Result4175.png', 'Result4176.png', 'Result4177.png', 'Result4178.png', 'Result4179.png', 'Result4180.png', 'Result4181.png', 'Result4183.png', 'Result4182.png', 'Result4184.png', 'Result4185.png', 'Result4186.png', 'Result4187.png', 'Result4188.png', 'Result4189.png', 'Result4190.png', 'Result4191.png', 'Result4192.png', 'Result4193.png', 'Result4195.png', 'Result4194.png', 'Result4196.png', 'Result4197.png', 'Result4198.png', 'Result4200.png', 'Result4199.png', 'Result4201.png', 'Result4202.png', 'Result4203.png', 'Result4204.png', 'Result4205.png', 'Result4206.png', 'Result4207.png', 'Result4208.png', 'Result4209.png', 'Result4210.png', 'Result4211.png', 'Result4212.png', 'Result4213.png', 'Result4214.png', 'Result4215.png', 'Result4216.png', 'Result4217.png', 'Result4218.png', 'Result4220.png', 'Result4219.png', 'Result4221.png', 'Result4222.png', 'Result4223.png', 'Result4225.png', 'Result4224.png', 'Result4226.png', 'Result4227.png', 'Result4228.png', 'Result4229.png', 'Result4230.png', 'Result4231.png', 'Result4232.png', 'Result4233.png', 'Result4234.png', 'Result4235.png', 'Result4236.png', 'Result4237.png', 'Result4238.png', 'Result4239.png', 'Result4240.png', 'Result4241.png', 'Result4242.png', 'Result4243.png', 'Result4244.png', 'Result4245.png', 'Result4247.png', 'Result4246.png', 'Result4248.png', 'Result4250.png', 'Result4249.png', 'Result4252.png', 'Result4251.png', 'Result4253.png', 'Result4255.png', 'Result4254.png', 'Result4256.png', 'Result4257.png', 'Result4258.png', 'Result4259.png', 'Result4260.png', 'Result4261.png', 'Result4263.png', 'Result4262.png', 'Result4264.png', 'Result4265.png', 'Result4266.png', 'Result4267.png', 'Result4268.png', 'Result4269.png', 'Result4270.png', 'Result4271.png', 'Result4272.png', 'Result4274.png', 'Result4273.png', 'Result4275.png', 'Result4276.png', 'Result4277.png', 'Result4279.png', 'Result4278.png', 'Result4280.png', 'Result4282.png', 'Result4281.png', 'Result4283.png', 'Result4284.png', 'Result4285.png', 'Result4286.png', 'Result4287.png', 'Result4288.png', 'Result4289.png', 'Result4290.png', 'Result4291.png', 'Result4293.png', 'Result4292.png', 'Result4294.png', 'Result4295.png', 'Result4296.png', 'Result4298.png', 'Result4297.png', 'Result4299.png', 'Result4300.png', 'Result4301.png', 'Result4302.png', 'Result4303.png', 'Result4304.png', 'Result4305.png', 'Result4306.png', 'Result4307.png', 'Result4308.png', 'Result4309.png', 'Result4310.png', 'Result4311.png', 'Result4313.png', 'Result4312.png', 'Result4314.png', 'Result4315.png', 'Result4316.png', 'Result4317.png', 'Result4318.png', 'Result4319.png', 'Result4320.png', 'Result4321.png', 'Result4322.png', 'Result4323.png', 'Result4324.png', 'Result4325.png', 'Result4327.png', 'Result4326.png', 'Result4328.png', 'Result4329.png', 'Result4330.png', 'Result4331.png', 'Result4332.png', 'Result4333.png', 'Result4334.png', 'Result4335.png', 'Result4336.png', 'Result4337.png', 'Result4338.png', 'Result4339.png', 'Result4340.png', 'Result4341.png', 'Result4342.png', 'Result4344.png', 'Result4343.png', 'Result4345.png', 'Result4346.png', 'Result4347.png', 'Result4348.png', 'Result4349.png', 'Result4350.png', 'Result4352.png', 'Result4351.png', 'Result4353.png', 'Result4354.png', 'Result4355.png', 'Result4356.png', 'Result4357.png', 'Result4358.png', 'Result4359.png', 'Result4360.png', 'Result4361.png', 'Result4362.png', 'Result4363.png', 'Result4364.png', 'Result4365.png', 'Result4366.png', 'Result4367.png', 'Result4368.png', 'Result4369.png', 'Result4370.png', 'Result4371.png', 'Result4372.png', 'Result4373.png', 'Result4374.png', 'Result4375.png', 'Result4376.png', 'Result4377.png', 'Result4378.png', 'Result4379.png', 'Result4380.png', 'Result4381.png', 'Result4382.png', 'Result4383.png', 'Result4384.png', 'Result4385.png', 'Result4386.png', 'Result4387.png', 'Result4388.png', 'Result4389.png', 'Result4390.png', 'Result4391.png', 'Result4392.png', 'Result4393.png', 'Result4394.png', 'Result4395.png', 'Result4396.png', 'Result4397.png', 'Result4398.png', 'Result4399.png', 'Result4400.png', 'Result4401.png', 'Result4402.png', 'Result4403.png', 'Result4404.png', 'Result4405.png', 'Result4406.png', 'Result4407.png', 'Result4408.png', 'Result4409.png', 'Result4410.png', 'Result4411.png', 'Result4413.png', 'Result4412.png', 'Result4414.png', 'Result4415.png', 'Result4416.png', 'Result4417.png', 'Result4418.png', 'Result4419.png', 'Result4420.png', 'Result4421.png', 'Result4422.png', 'Result4423.png', 'Result4424.png', 'Result4425.png', 'Result4426.png', 'Result4427.png', 'Result4428.png', 'Result4429.png', 'Result4430.png', 'Result4431.png', 'Result4432.png', 'Result4433.png', 'Result4434.png', 'Result4435.png', 'Result4436.png', 'Result4437.png', 'Result4438.png', 'Result4439.png', 'Result4440.png', 'Result4441.png', 'Result4442.png', 'Result4443.png', 'Result4444.png', 'Result4445.png', 'Result4446.png', 'Result4447.png', 'Result4448.png', 'Result4449.png', 'Result4450.png', 'Result4451.png', 'Result4452.png', 'Result4454.png', 'Result4453.png', 'Result4456.png', 'Result4455.png', 'Result4457.png', 'Result4458.png', 'Result4459.png', 'Result4460.png', 'Result4461.png', 'Result4462.png', 'Result4463.png', 'Result4464.png', 'Result4465.png', 'Result4466.png', 'Result4467.png', 'Result4468.png', 'Result4469.png', 'Result4470.png', 'Result4471.png', 'Result4472.png', 'Result4473.png', 'Result4474.png', 'Result4475.png', 'Result4476.png', 'Result4477.png', 'Result4478.png', 'Result4479.png', 'Result4480.png', 'Result4481.png', 'Result4482.png', 'Result4483.png', 'Result4484.png', 'Result4485.png', 'Result4486.png', 'Result4487.png', 'Result4488.png', 'Result4489.png', 'Result4491.png', 'Result4490.png', 'Result4492.png', 'Result4494.png', 'Result4493.png', 'Result4495.png', 'Result4496.png', 'Result4497.png', 'Result4498.png', 'Result4499.png', 'Result4500.png', 'Result4501.png', 'Result4502.png', 'Result4503.png', 'Result4504.png', 'Result4505.png', 'Result4506.png', 'Result4507.png', 'Result4508.png', 'Result4510.png', 'Result4509.png', 'Result4511.png', 'Result4512.png', 'Result4513.png', 'Result4514.png', 'Result4515.png', 'Result4516.png', 'Result4517.png', 'Result4518.png', 'Result4519.png', 'Result4520.png', 'Result4521.png', 'Result4523.png', 'Result4522.png', 'Result4524.png', 'Result4526.png', 'Result4525.png', 'Result4528.png', 'Result4527.png', 'Result4529.png', 'Result4530.png', 'Result4531.png', 'Result4532.png', 'Result4533.png', 'Result4534.png', 'Result4535.png', 'Result4536.png', 'Result4537.png', 'Result4539.png', 'Result4538.png', 'Result4540.png', 'Result4541.png', 'Result4542.png', 'Result4543.png', 'Result4544.png', 'Result4545.png', 'Result4546.png', 'Result4547.png', 'Result4549.png', 'Result4548.png', 'Result4550.png', 'Result4551.png', 'Result4552.png', 'Result4553.png', 'Result4554.png', 'Result4555.png', 'Result4556.png', 'Result4557.png', 'Result4558.png', 'Result4559.png', 'Result4560.png', 'Result4562.png', 'Result4561.png', 'Result4563.png', 'Result4564.png', 'Result4565.png', 'Result4566.png', 'Result4567.png', 'Result4568.png', 'Result4569.png', 'Result4570.png', 'Result4571.png', 'Result4572.png', 'Result4573.png', 'Result4574.png', 'Result4575.png', 'Result4576.png', 'Result4577.png', 'Result4578.png', 'Result4579.png', 'Result4580.png', 'Result4581.png', 'Result4582.png', 'Result4583.png', 'Result4584.png', 'Result4585.png', 'Result4586.png', 'Result4587.png', 'Result4588.png', 'Result4589.png', 'Result4590.png', 'Result4591.png', 'Result4592.png', 'Result4593.png', 'Result4594.png', 'Result4595.png', 'Result4596.png', 'Result4597.png', 'Result4598.png', 'Result4599.png', 'Result4600.png', 'Result4601.png', 'Result4602.png', 'Result4603.png', 'Result4604.png', 'Result4605.png', 'Result4606.png', 'Result4607.png', 'Result4608.png', 'Result4609.png', 'Result4610.png', 'Result4611.png', 'Result4612.png', 'Result4613.png', 'Result4614.png', 'Result4615.png', 'Result4616.png', 'Result4617.png', 'Result4618.png', 'Result4619.png', 'Result4620.png', 'Result4621.png', 'Result4622.png', 'Result4623.png', 'Result4624.png', 'Result4625.png', 'Result4626.png', 'Result4627.png', 'Result4628.png', 'Result4629.png', 'Result4631.png', 'Result4630.png', 'Result4632.png', 'Result4633.png', 'Result4634.png', 'Result4635.png', 'Result4636.png', 'Result4637.png', 'Result4638.png', 'Result4639.png', 'Result4640.png', 'Result4641.png', 'Result4642.png', 'Result4643.png', 'Result4644.png', 'Result4645.png', 'Result4646.png', 'Result4647.png', 'Result4648.png', 'Result4649.png', 'Result4650.png', 'Result4651.png', 'Result4652.png', 'Result4653.png', 'Result4654.png', 'Result4655.png', 'Result4656.png', 'Result4657.png', 'Result4658.png', 'Result4659.png', 'Result4660.png', 'Result4661.png', 'Result4662.png', 'Result4663.png', 'Result4664.png', 'Result4665.png', 'Result4666.png', 'Result4667.png', 'Result4668.png', 'Result4669.png', 'Result4671.png', 'Result4670.png', 'Result4672.png', 'Result4673.png', 'Result4675.png', 'Result4674.png', 'Result4676.png', 'Result4677.png', 'Result4678.png', 'Result4679.png', 'Result4680.png', 'Result4681.png', 'Result4682.png', 'Result4683.png', 'Result4684.png', 'Result4685.png', 'Result4686.png', 'Result4687.png', 'Result4688.png', 'Result4689.png', 'Result4690.png', 'Result4691.png', 'Result4692.png', 'Result4693.png', 'Result4694.png', 'Result4695.png', 'Result4696.png', 'Result4697.png', 'Result4698.png', 'Result4700.png', 'Result4699.png', 'Result4701.png', 'Result4702.png', 'Result4703.png', 'Result4704.png', 'Result4705.png', 'Result4706.png', 'Result4707.png', 'Result4708.png', 'Result4709.png', 'Result4710.png', 'Result4711.png', 'Result4713.png', 'Result4712.png', 'Result4714.png', 'Result4716.png', 'Result4715.png', 'Result4718.png', 'Result4717.png', 'Result4719.png', 'Result4721.png', 'Result4720.png', 'Result4722.png', 'Result4723.png', 'Result4724.png', 'Result4725.png', 'Result4726.png', 'Result4727.png', 'Result4728.png', 'Result4729.png', 'Result4730.png', 'Result4731.png', 'Result4732.png', 'Result4733.png', 'Result4734.png', 'Result4735.png', 'Result4736.png', 'Result4737.png', 'Result4739.png', 'Result4738.png', 'Result4740.png', 'Result4741.png', 'Result4742.png', 'Result4743.png', 'Result4744.png', 'Result4745.png', 'Result4746.png', 'Result4747.png', 'Result4748.png', 'Result4749.png', 'Result4750.png', 'Result4751.png', 'Result4752.png', 'Result4753.png', 'Result4754.png', 'Result4755.png', 'Result4756.png', 'Result4757.png', 'Result4758.png', 'Result4759.png', 'Result4760.png', 'Result4761.png', 'Result4762.png', 'Result4763.png', 'Result4764.png', 'Result4765.png', 'Result4766.png', 'Result4767.png', 'Result4768.png', 'Result4769.png', 'Result4770.png', 'Result4771.png', 'Result4772.png', 'Result4773.png', 'Result4775.png', 'Result4774.png', 'Result4776.png', 'Result4777.png', 'Result4778.png', 'Result4779.png', 'Result4780.png', 'Result4781.png', 'Result4782.png', 'Result4783.png', 'Result4784.png', 'Result4785.png', 'Result4786.png', 'Result4787.png', 'Result4788.png', 'Result4789.png', 'Result4790.png', 'Result4791.png', 'Result4792.png', 'Result4793.png', 'Result4794.png', 'Result4795.png', 'Result4796.png', 'Result4797.png', 'Result4798.png', 'Result4799.png', 'Result4801.png', 'Result4800.png', 'Result4802.png', 'Result4803.png', 'Result4804.png', 'Result4805.png', 'Result4806.png', 'Result4807.png', 'Result4808.png', 'Result4809.png', 'Result4810.png', 'Result4811.png', 'Result4813.png', 'Result4812.png', 'Result4814.png', 'Result4815.png', 'Result4816.png', 'Result4817.png', 'Result4818.png', 'Result4819.png', 'Result4820.png', 'Result4821.png', 'Result4822.png', 'Result4823.png', 'Result4824.png', 'Result4825.png', 'Result4826.png', 'Result4827.png', 'Result4828.png', 'Result4829.png', 'Result4830.png', 'Result4832.png', 'Result4831.png', 'Result4833.png', 'Result4834.png', 'Result4835.png', 'Result4836.png', 'Result4837.png', 'Result4838.png', 'Result4839.png', 'Result4840.png', 'Result4841.png', 'Result4842.png', 'Result4843.png', 'Result4844.png', 'Result4845.png', 'Result4846.png', 'Result4847.png', 'Result4848.png', 'Result4849.png', 'Result4850.png', 'Result4852.png', 'Result4851.png', 'Result4853.png', 'Result4854.png', 'Result4855.png', 'Result4856.png', 'Result4857.png', 'Result4858.png', 'Result4859.png', 'Result4860.png', 'Result4861.png', 'Result4862.png', 'Result4863.png', 'Result4864.png', 'Result4865.png', 'Result4866.png', 'Result4867.png', 'Result4868.png', 'Result4869.png', 'Result4871.png', 'Result4870.png', 'Result4872.png', 'Result4873.png', 'Result4874.png', 'Result4875.png', 'Result4876.png', 'Result4877.png', 'Result4878.png', 'Result4879.png', 'Result4880.png', 'Result4882.png', 'Result4881.png', 'Result4883.png', 'Result4884.png', 'Result4885.png', 'Result4886.png', 'Result4887.png', 'Result4888.png', 'Result4889.png', 'Result4890.png', 'Result4891.png', 'Result4892.png', 'Result4893.png', 'Result4894.png', 'Result4895.png', 'Result4896.png', 'Result4897.png', 'Result4898.png', 'Result4899.png', 'Result4900.png', 'Result4901.png', 'Result4902.png', 'Result4903.png', 'Result4904.png', 'Result4905.png', 'Result4906.png', 'Result4907.png', 'Result4908.png', 'Result4909.png', 'Result4910.png', 'Result4911.png', 'Result4912.png', 'Result4913.png', 'Result4915.png', 'Result4914.png', 'Result4916.png', 'Result4917.png', 'Result4918.png', 'Result4919.png', 'Result4920.png', 'Result4921.png', 'Result4922.png', 'Result4923.png', 'Result4924.png', 'Result4925.png', 'Result4926.png', 'Result4927.png', 'Result4928.png', 'Result4929.png', 'Result4930.png', 'Result4931.png', 'Result4932.png', 'Result4934.png', 'Result4933.png', 'Result4935.png', 'Result4936.png', 'Result4937.png', 'Result4938.png', 'Result4939.png', 'Result4940.png', 'Result4942.png', 'Result4941.png', 'Result4943.png', 'Result4944.png', 'Result4945.png', 'Result4946.png', 'Result4947.png', 'Result4948.png', 'Result4949.png', 'Result4950.png', 'Result4951.png', 'Result4952.png', 'Result4953.png', 'Result4955.png', 'Result4954.png', 'Result4956.png', 'Result4957.png', 'Result4958.png', 'Result4959.png', 'Result4960.png', 'Result4962.png', 'Result4961.png', 'Result4963.png', 'Result4964.png', 'Result4965.png', 'Result4966.png', 'Result4967.png', 'Result4969.png', 'Result4968.png', 'Result4971.png', 'Result4970.png', 'Result4972.png', 'Result4973.png', 'Result4974.png', 'Result4976.png', 'Result4975.png', 'Result4977.png', 'Result4978.png', 'Result4979.png', 'Result4980.png', 'Result4981.png', 'Result4982.png', 'Result4983.png', 'Result4984.png', 'Result4985.png', 'Result4986.png', 'Result4987.png', 'Result4988.png', 'Result4989.png', 'Result4990.png', 'Result4991.png', 'Result4992.png', 'Result4993.png', 'Result4995.png', 'Result4994.png', 'Result4996.png', 'Result4997.png', 'Result4998.png', 'Result4999.png', 'Result5000.png', 'Result4000.png', 'Result4001.png', 'Result4002.png', 'Result4003.png', 'Result4005.png', 'Result4004.png', 'Result4007.png', 'Result4006.png', 'Result4008.png', 'Result4009.png', 'Result4010.png', 'Result4011.png', 'Result4012.png', 'Result4013.png', 'Result4015.png', 'Result4014.png', 'Result4016.png', 'Result4017.png', 'Result4018.png', 'Result4019.png', 'Result4020.png', 'Result4021.png', 'Result4022.png', 'Result4023.png', 'Result4024.png', 'Result4025.png', 'Result4026.png', 'Result4027.png', 'Result1.png', 'Result2.png', 'Result3.png', 'Result4.png', 'Result5.png', 'Result6.png', 'Result7.png', 'Result8.png', 'Result9.png', 'Result10.png', 'Result11.png', 'Result12.png', 'Result13.png', 'Result14.png', 'Result15.png', 'Result16.png', 'Result18.png', 'Result17.png', 'Result19.png', 'Result20.png', 'Result21.png', 'Result23.png', 'Result22.png', 'Result24.png', 'Result26.png', 'Result25.png', 'Result27.png', 'Result28.png', 'Result29.png', 'Result30.png', 'Result31.png', 'Result32.png', 'Result33.png', 'Result34.png', 'Result36.png', 'Result35.png', 'Result38.png', 'Result37.png', 'Result39.png', 'Result40.png', 'Result41.png', 'Result42.png', 'Result43.png', 'Result44.png', 'Result45.png', 'Result46.png', 'Result47.png', 'Result48.png', 'Result49.png', 'Result50.png', 'Result51.png', 'Result53.png', 'Result52.png', 'Result54.png', 'Result55.png', 'Result56.png', 'Result57.png', 'Result58.png', 'Result60.png', 'Result59.png', 'Result61.png', 'Result62.png', 'Result63.png', 'Result65.png', 'Result64.png', 'Result66.png', 'Result67.png', 'Result68.png', 'Result69.png', 'Result70.png', 'Result71.png', 'Result72.png', 'Result73.png', 'Result75.png', 'Result74.png', 'Result76.png', 'Result77.png', 'Result78.png', 'Result80.png', 'Result79.png', 'Result81.png', 'Result83.png', 'Result82.png', 'Result84.png', 'Result85.png', 'Result86.png', 'Result87.png', 'Result88.png', 'Result89.png', 'Result90.png', 'Result91.png', 'Result92.png', 'Result93.png', 'Result94.png', 'Result95.png', 'Result96.png', 'Result97.png', 'Result98.png', 'Result99.png', 'Result100.png', 'Result101.png', 'Result102.png', 'Result103.png', 'Result104.png', 'Result105.png', 'Result106.png', 'Result107.png', 'Result108.png', 'Result109.png', 'Result110.png', 'Result111.png', 'Result112.png', 'Result113.png', 'Result114.png', 'Result116.png', 'Result115.png', 'Result117.png', 'Result118.png', 'Result119.png', 'Result120.png', 'Result121.png', 'Result122.png', 'Result123.png', 'Result124.png', 'Result125.png', 'Result126.png', 'Result127.png', 'Result128.png', 'Result129.png', 'Result130.png', 'Result132.png', 'Result131.png', 'Result133.png', 'Result134.png', 'Result135.png', 'Result136.png', 'Result137.png', 'Result138.png', 'Result140.png', 'Result139.png', 'Result141.png', 'Result142.png', 'Result143.png', 'Result144.png', 'Result145.png', 'Result146.png', 'Result148.png', 'Result147.png', 'Result149.png', 'Result150.png', 'Result151.png', 'Result152.png', 'Result153.png', 'Result154.png', 'Result155.png', 'Result156.png', 'Result158.png', 'Result157.png', 'Result159.png', 'Result160.png', 'Result161.png', 'Result162.png', 'Result163.png', 'Result164.png', 'Result165.png', 'Result166.png', 'Result167.png', 'Result168.png', 'Result169.png', 'Result170.png', 'Result171.png', 'Result173.png', 'Result172.png', 'Result174.png', 'Result175.png', 'Result176.png', 'Result178.png', 'Result177.png', 'Result179.png', 'Result180.png', 'Result181.png', 'Result182.png', 'Result183.png', 'Result184.png', 'Result185.png', 'Result186.png', 'Result187.png', 'Result188.png', 'Result189.png', 'Result190.png', 'Result191.png', 'Result192.png', 'Result193.png', 'Result194.png', 'Result195.png', 'Result196.png', 'Result198.png', 'Result197.png', 'Result199.png', 'Result200.png', 'Result201.png', 'Result202.png', 'Result203.png', 'Result204.png', 'Result205.png', 'Result206.png', 'Result207.png', 'Result208.png', 'Result209.png', 'Result210.png', 'Result211.png', 'Result212.png', 'Result213.png', 'Result214.png', 'Result215.png', 'Result216.png', 'Result217.png', 'Result218.png', 'Result219.png', 'Result221.png', 'Result220.png', 'Result222.png', 'Result223.png', 'Result224.png', 'Result225.png', 'Result226.png', 'Result227.png', 'Result228.png', 'Result230.png', 'Result229.png', 'Result231.png', 'Result232.png', 'Result233.png', 'Result234.png', 'Result235.png', 'Result236.png', 'Result237.png', 'Result239.png', 'Result238.png', 'Result240.png', 'Result241.png', 'Result242.png', 'Result243.png', 'Result244.png', 'Result245.png', 'Result247.png', 'Result246.png', 'Result248.png', 'Result249.png', 'Result250.png', 'Result251.png', 'Result252.png', 'Result253.png', 'Result254.png', 'Result255.png', 'Result256.png', 'Result257.png', 'Result258.png', 'Result259.png', 'Result260.png', 'Result261.png', 'Result262.png', 'Result263.png', 'Result264.png', 'Result265.png', 'Result266.png', 'Result267.png', 'Result268.png', 'Result269.png', 'Result270.png', 'Result271.png', 'Result272.png', 'Result273.png', 'Result274.png', 'Result275.png', 'Result276.png', 'Result277.png', 'Result278.png', 'Result279.png', 'Result280.png', 'Result281.png', 'Result282.png', 'Result283.png', 'Result284.png', 'Result285.png', 'Result286.png', 'Result287.png', 'Result288.png', 'Result289.png', 'Result290.png', 'Result291.png', 'Result292.png', 'Result293.png', 'Result294.png', 'Result295.png', 'Result296.png', 'Result297.png', 'Result298.png', 'Result299.png', 'Result300.png', 'Result301.png', 'Result302.png', 'Result303.png', 'Result304.png', 'Result305.png', 'Result306.png', 'Result307.png', 'Result308.png', 'Result309.png', 'Result310.png', 'Result312.png', 'Result311.png', 'Result313.png', 'Result314.png', 'Result316.png', 'Result315.png', 'Result317.png', 'Result318.png', 'Result319.png', 'Result320.png', 'Result321.png', 'Result322.png', 'Result323.png', 'Result324.png', 'Result325.png', 'Result326.png', 'Result328.png', 'Result327.png', 'Result329.png', 'Result330.png', 'Result331.png', 'Result332.png', 'Result333.png', 'Result334.png', 'Result336.png', 'Result335.png', 'Result337.png', 'Result338.png', 'Result339.png', 'Result340.png', 'Result342.png', 'Result341.png', 'Result343.png', 'Result344.png', 'Result345.png', 'Result346.png', 'Result347.png', 'Result348.png', 'Result349.png', 'Result350.png', 'Result351.png', 'Result352.png', 'Result353.png', 'Result354.png', 'Result355.png', 'Result356.png', 'Result357.png', 'Result359.png', 'Result358.png', 'Result360.png', 'Result361.png', 'Result362.png', 'Result363.png', 'Result364.png', 'Result365.png', 'Result366.png', 'Result367.png', 'Result368.png', 'Result369.png', 'Result370.png', 'Result371.png', 'Result372.png', 'Result373.png', 'Result374.png', 'Result375.png', 'Result376.png', 'Result377.png', 'Result378.png', 'Result379.png', 'Result380.png', 'Result382.png', 'Result381.png', 'Result383.png', 'Result384.png', 'Result385.png', 'Result386.png', 'Result388.png', 'Result387.png', 'Result389.png', 'Result390.png', 'Result391.png', 'Result392.png', 'Result393.png', 'Result394.png', 'Result395.png', 'Result396.png', 'Result397.png', 'Result398.png', 'Result399.png', 'Result400.png', 'Result401.png', 'Result403.png', 'Result402.png', 'Result404.png', 'Result405.png', 'Result406.png', 'Result407.png', 'Result408.png', 'Result409.png', 'Result410.png', 'Result411.png', 'Result412.png', 'Result413.png', 'Result414.png', 'Result415.png', 'Result416.png', 'Result417.png', 'Result418.png', 'Result419.png', 'Result420.png', 'Result421.png', 'Result422.png', 'Result423.png', 'Result424.png', 'Result425.png', 'Result426.png', 'Result427.png', 'Result428.png', 'Result430.png', 'Result429.png', 'Result431.png', 'Result432.png', 'Result433.png', 'Result434.png', 'Result435.png', 'Result436.png', 'Result438.png', 'Result437.png', 'Result439.png', 'Result440.png', 'Result441.png', 'Result442.png', 'Result443.png', 'Result444.png', 'Result445.png', 'Result446.png', 'Result447.png', 'Result448.png', 'Result449.png', 'Result451.png', 'Result450.png', 'Result452.png', 'Result453.png', 'Result454.png', 'Result455.png', 'Result456.png', 'Result457.png', 'Result458.png', 'Result459.png', 'Result460.png', 'Result461.png', 'Result462.png', 'Result464.png', 'Result463.png', 'Result465.png', 'Result466.png', 'Result467.png', 'Result468.png', 'Result469.png', 'Result470.png', 'Result471.png', 'Result472.png', 'Result473.png', 'Result474.png', 'Result475.png', 'Result476.png', 'Result477.png', 'Result478.png', 'Result479.png', 'Result480.png', 'Result481.png', 'Result482.png', 'Result483.png', 'Result484.png', 'Result485.png', 'Result486.png', 'Result488.png', 'Result487.png', 'Result489.png', 'Result490.png', 'Result491.png', 'Result492.png', 'Result493.png', 'Result494.png', 'Result495.png', 'Result496.png', 'Result497.png', 'Result498.png', 'Result499.png', 'Result500.png', 'Result501.png', 'Result502.png', 'Result503.png', 'Result504.png', 'Result505.png', 'Result506.png', 'Result507.png', 'Result508.png', 'Result509.png', 'Result510.png', 'Result511.png', 'Result512.png', 'Result513.png', 'Result514.png', 'Result515.png', 'Result516.png', 'Result517.png', 'Result518.png', 'Result519.png', 'Result520.png', 'Result521.png', 'Result522.png', 'Result523.png', 'Result524.png', 'Result525.png', 'Result526.png', 'Result527.png', 'Result528.png', 'Result529.png', 'Result531.png', 'Result530.png', 'Result532.png', 'Result533.png', 'Result534.png', 'Result536.png', 'Result535.png', 'Result538.png', 'Result537.png', 'Result539.png', 'Result540.png', 'Result541.png', 'Result543.png', 'Result542.png', 'Result544.png', 'Result545.png', 'Result546.png', 'Result547.png', 'Result548.png', 'Result549.png', 'Result550.png', 'Result551.png', 'Result552.png', 'Result553.png', 'Result554.png', 'Result555.png', 'Result556.png', 'Result557.png', 'Result558.png', 'Result559.png', 'Result560.png', 'Result561.png', 'Result562.png', 'Result563.png', 'Result564.png', 'Result565.png', 'Result566.png', 'Result567.png', 'Result568.png', 'Result569.png', 'Result570.png', 'Result571.png', 'Result572.png', 'Result573.png', 'Result574.png', 'Result575.png', 'Result576.png', 'Result577.png', 'Result578.png', 'Result579.png', 'Result580.png', 'Result581.png', 'Result582.png', 'Result583.png', 'Result584.png', 'Result585.png', 'Result587.png', 'Result586.png', 'Result588.png', 'Result589.png', 'Result590.png', 'Result591.png', 'Result593.png', 'Result592.png', 'Result594.png', 'Result595.png', 'Result596.png', 'Result597.png', 'Result598.png', 'Result599.png', 'Result600.png', 'Result601.png', 'Result602.png', 'Result603.png', 'Result604.png', 'Result605.png', 'Result606.png', 'Result607.png', 'Result608.png', 'Result609.png', 'Result610.png', 'Result611.png', 'Result613.png', 'Result612.png', 'Result614.png', 'Result615.png', 'Result616.png', 'Result617.png', 'Result618.png', 'Result619.png', 'Result620.png', 'Result621.png', 'Result622.png', 'Result623.png', 'Result625.png', 'Result624.png', 'Result626.png', 'Result627.png', 'Result628.png', 'Result629.png', 'Result630.png', 'Result631.png', 'Result632.png', 'Result633.png', 'Result634.png', 'Result635.png', 'Result636.png', 'Result637.png', 'Result638.png', 'Result639.png', 'Result640.png', 'Result641.png', 'Result642.png', 'Result643.png', 'Result644.png', 'Result645.png', 'Result646.png', 'Result647.png', 'Result648.png', 'Result649.png', 'Result650.png', 'Result651.png', 'Result652.png', 'Result653.png', 'Result654.png', 'Result655.png', 'Result657.png', 'Result656.png', 'Result658.png', 'Result659.png', 'Result660.png', 'Result661.png', 'Result662.png', 'Result663.png', 'Result664.png', 'Result665.png', 'Result666.png', 'Result667.png', 'Result668.png', 'Result669.png', 'Result670.png', 'Result671.png', 'Result672.png', 'Result673.png', 'Result674.png', 'Result675.png', 'Result676.png', 'Result677.png', 'Result678.png', 'Result679.png', 'Result680.png', 'Result681.png', 'Result682.png', 'Result683.png', 'Result684.png', 'Result685.png', 'Result686.png', 'Result687.png', 'Result688.png', 'Result689.png', 'Result690.png', 'Result691.png', 'Result692.png', 'Result693.png', 'Result694.png', 'Result695.png', 'Result697.png', 'Result696.png', 'Result698.png', 'Result699.png', 'Result700.png', 'Result701.png', 'Result702.png', 'Result703.png', 'Result704.png', 'Result705.png', 'Result706.png', 'Result707.png', 'Result708.png', 'Result709.png', 'Result710.png', 'Result711.png', 'Result712.png', 'Result714.png', 'Result713.png', 'Result715.png', 'Result716.png', 'Result717.png', 'Result718.png', 'Result719.png', 'Result720.png', 'Result721.png', 'Result722.png', 'Result723.png', 'Result724.png', 'Result725.png', 'Result726.png', 'Result727.png', 'Result728.png', 'Result729.png', 'Result730.png', 'Result731.png', 'Result732.png', 'Result733.png', 'Result734.png', 'Result735.png', 'Result736.png', 'Result737.png', 'Result738.png', 'Result739.png', 'Result740.png', 'Result741.png', 'Result742.png', 'Result743.png', 'Result744.png', 'Result745.png', 'Result746.png', 'Result747.png', 'Result748.png', 'Result749.png', 'Result751.png', 'Result750.png', 'Result752.png', 'Result753.png', 'Result754.png', 'Result755.png', 'Result756.png', 'Result757.png', 'Result758.png', 'Result759.png', 'Result760.png', 'Result761.png', 'Result762.png', 'Result763.png', 'Result764.png', 'Result765.png', 'Result766.png', 'Result767.png', 'Result768.png', 'Result769.png', 'Result770.png', 'Result771.png', 'Result772.png', 'Result773.png', 'Result774.png', 'Result775.png', 'Result776.png', 'Result777.png', 'Result778.png', 'Result779.png', 'Result780.png', 'Result781.png', 'Result782.png', 'Result783.png', 'Result784.png', 'Result785.png', 'Result786.png', 'Result787.png', 'Result788.png', 'Result789.png', 'Result790.png', 'Result791.png', 'Result792.png', 'Result793.png', 'Result794.png', 'Result795.png', 'Result796.png', 'Result797.png', 'Result798.png', 'Result799.png', 'Result800.png', 'Result801.png', 'Result802.png', 'Result803.png', 'Result804.png', 'Result805.png', 'Result806.png', 'Result807.png', 'Result808.png', 'Result809.png', 'Result810.png', 'Result811.png', 'Result812.png', 'Result813.png', 'Result814.png', 'Result815.png', 'Result816.png', 'Result817.png', 'Result818.png', 'Result819.png', 'Result820.png', 'Result821.png', 'Result822.png', 'Result823.png', 'Result824.png', 'Result825.png', 'Result826.png', 'Result827.png', 'Result828.png', 'Result829.png', 'Result830.png', 'Result831.png', 'Result832.png', 'Result833.png', 'Result834.png', 'Result835.png', 'Result836.png', 'Result837.png', 'Result838.png', 'Result839.png', 'Result840.png', 'Result841.png', 'Result842.png', 'Result843.png', 'Result844.png', 'Result845.png', 'Result846.png', 'Result847.png', 'Result848.png', 'Result849.png', 'Result850.png', 'Result851.png', 'Result853.png', 'Result852.png', 'Result854.png', 'Result855.png', 'Result856.png', 'Result857.png', 'Result858.png', 'Result859.png', 'Result861.png', 'Result860.png', 'Result862.png', 'Result863.png', 'Result864.png', 'Result865.png', 'Result866.png', 'Result867.png', 'Result868.png', 'Result869.png', 'Result871.png', 'Result870.png', 'Result872.png', 'Result873.png', 'Result874.png', 'Result875.png', 'Result877.png', 'Result876.png', 'Result878.png', 'Result880.png', 'Result879.png', 'Result881.png', 'Result882.png', 'Result883.png', 'Result884.png', 'Result885.png', 'Result886.png', 'Result887.png', 'Result888.png', 'Result890.png', 'Result889.png', 'Result891.png', 'Result892.png', 'Result893.png', 'Result894.png', 'Result895.png', 'Result896.png', 'Result897.png', 'Result898.png', 'Result899.png', 'Result900.png']\n",
            "\u001b[2K     \u001b[90m━━━━━━━━━━━━━━━━━━━━━━━━━━━━━━━━━━━━━━━━\u001b[0m \u001b[32m2.2/2.2 MB\u001b[0m \u001b[31m24.8 MB/s\u001b[0m eta \u001b[36m0:00:00\u001b[0m\n",
            "\u001b[2K     \u001b[90m━━━━━━━━━━━━━━━━━━━━━━━━━━━━━━━━━━━━━━\u001b[0m \u001b[32m236.8/236.8 kB\u001b[0m \u001b[31m20.4 MB/s\u001b[0m eta \u001b[36m0:00:00\u001b[0m\n",
            "\u001b[2K     \u001b[90m━━━━━━━━━━━━━━━━━━━━━━━━━━━━━━━━━━━━━━━━\u001b[0m \u001b[32m1.3/1.3 MB\u001b[0m \u001b[31m74.7 MB/s\u001b[0m eta \u001b[36m0:00:00\u001b[0m\n",
            "\u001b[?25h"
          ]
        }
      ],
      "source": [
        "# replace path dependening on you file locations\n",
        "path_to_pictures = \"/content/drive/MyDrive/Adrian/Semantic Segmentation-Laura Ulrich/Voronoi/Maskenbausteine kombiniert/Voronoibilderpng224/\"\n",
        "\n",
        "path_to_masks = \"/content/drive/MyDrive/Adrian/Semantic Segmentation-Laura Ulrich/Voronoi/Maskenbausteine kombiniert/Voronoimaskenpng224/\"\n",
        "print(os.listdir(path_to_pictures))\n",
        "#Achtung! Sicherstellen, dass die Masken auch wirklich BINÄR sind\n",
        "!pip install fastai wwf -q --upgrade\n",
        "from fastai.vision.all import *\n",
        "import torch\n",
        "import fastai\n",
        "import numpy as np\n",
        "import matplotlib.pyplot as plt\n",
        "from pathlib import Path\n",
        "from PIL import Image\n",
        "from tqdm import tqdm"
      ]
    },
    {
      "cell_type": "code",
      "execution_count": null,
      "metadata": {
        "id": "jJT8fNTseZW8"
      },
      "outputs": [],
      "source": [
        "fnames = get_image_files(path_to_pictures)"
      ]
    },
    {
      "cell_type": "code",
      "execution_count": null,
      "metadata": {
        "id": "wqavu_2C-ocO"
      },
      "outputs": [],
      "source": [
        "lbl_names = get_image_files(path_to_masks)"
      ]
    },
    {
      "cell_type": "code",
      "execution_count": null,
      "metadata": {
        "colab": {
          "base_uri": "https://localhost:8080/"
        },
        "id": "90r4qNUEeZaD",
        "outputId": "13dd7977-0cfd-460f-86f2-922bd80710b9"
      },
      "outputs": [
        {
          "output_type": "stream",
          "name": "stdout",
          "text": [
            "Number of masks: 1900\n",
            "Number of images: 1900\n"
          ]
        }
      ],
      "source": [
        "# quick check\n",
        "print(\"Number of masks: \" + str(len(lbl_names)))\n",
        "print(\"Number of images: \" + str(len(fnames)))"
      ]
    },
    {
      "cell_type": "code",
      "execution_count": null,
      "metadata": {
        "colab": {
          "base_uri": "https://localhost:8080/"
        },
        "id": "jkrePJDmSV8c",
        "outputId": "2740b470-5153-46ef-a5b6-5cb84729f774"
      },
      "outputs": [
        {
          "output_type": "stream",
          "name": "stdout",
          "text": [
            "/content/drive/MyDrive/Adrian/Semantic Segmentation-Laura Ulrich/Voronoi/Maskenbausteine kombiniert/Voronoimaskenpng224/Result_bw924.png\n",
            "/content/drive/MyDrive/Adrian/Semantic Segmentation-Laura Ulrich/Voronoi/Maskenbausteine kombiniert/Voronoibilderpng224/Result901.png\n"
          ]
        }
      ],
      "source": [
        "# quick check for file names, these have to be consitens\n",
        "# exacly like that\n",
        "# '.../MyResult_bw1301.png'\n",
        "# '...MyResult1301.jpg'\n",
        "\n",
        "print(lbl_names[9])\n",
        "print(fnames[0])"
      ]
    },
    {
      "cell_type": "markdown",
      "metadata": {
        "id": "Qj4yDQD_4Z1V"
      },
      "source": [
        "Load a mask to check how many different pixel colours it has,\n",
        "only allowed to have to (black 255 and white 0)"
      ]
    },
    {
      "cell_type": "code",
      "execution_count": null,
      "metadata": {
        "id": "xdpsiwC8VhbG"
      },
      "outputs": [],
      "source": [
        "# create a dictionary needed to get the masks later\n",
        "# 0 = brittle, 1 = ductile\n",
        "p2c = {0: 0, 1: 255}"
      ]
    },
    {
      "cell_type": "code",
      "execution_count": null,
      "metadata": {
        "id": "y0pURd-cVhdR",
        "colab": {
          "base_uri": "https://localhost:8080/"
        },
        "outputId": "65d6a326-aa97-4503-8a46-cfee4712537a"
      },
      "outputs": [
        {
          "output_type": "execute_result",
          "data": {
            "text/plain": [
              "{0: 0, 1: 255}"
            ]
          },
          "metadata": {},
          "execution_count": 22
        }
      ],
      "source": [
        "p2c"
      ]
    },
    {
      "cell_type": "markdown",
      "metadata": {
        "id": "QSFO-t32uZWQ"
      },
      "source": [
        "Some tests, to check if masks can be found"
      ]
    },
    {
      "cell_type": "code",
      "execution_count": null,
      "metadata": {
        "id": "kfb6gAKi_rFf"
      },
      "outputs": [],
      "source": [
        "# this path should show to the folder from the project\n",
        "# this folder will have to have two subfolders one for masks and one for images\n",
        "path = \"/content/drive/MyDrive/Adrian/Semantic Segmentation-Laura Ulrich/Voronoi/Maskenbausteine kombiniert/\""
      ]
    },
    {
      "cell_type": "code",
      "execution_count": null,
      "metadata": {
        "id": "svJ-YaJT88fq"
      },
      "outputs": [],
      "source": [
        "regex = re.compile(r'\\d+')\n",
        "\n",
        "def get_msk_hlp(image):\n",
        "  imgname = image.name\n",
        "  num = str(regex.findall(imgname)[0])\n",
        "  # this has to be edited, masks2 = name of folder containing masks\n",
        "  labelname = path+'Voronoimaskenpng224/Result_bw'+num+'.png'\n",
        "  return labelname"
      ]
    },
    {
      "cell_type": "markdown",
      "metadata": {
        "id": "5duWnrJMT6EJ"
      },
      "source": [
        "First part of the function that can find the mask to an image, again just use filename to find repecitve on"
      ]
    },
    {
      "cell_type": "code",
      "execution_count": null,
      "metadata": {
        "id": "v4wM1QT9Md8e"
      },
      "outputs": [],
      "source": [
        "# create a dictionary needed to get the masks later\n",
        "# 0 = brittle, 1 = ductile\n",
        "p2c = {0: 0, 1: 255}"
      ]
    },
    {
      "cell_type": "code",
      "execution_count": null,
      "metadata": {
        "colab": {
          "base_uri": "https://localhost:8080/"
        },
        "outputId": "969e31c8-a41f-4955-9fc0-85e45acf63b2",
        "id": "9typOXHkMfAZ"
      },
      "outputs": [
        {
          "output_type": "execute_result",
          "data": {
            "text/plain": [
              "{0: 0, 1: 255}"
            ]
          },
          "metadata": {},
          "execution_count": 26
        }
      ],
      "source": [
        "p2c"
      ]
    },
    {
      "cell_type": "code",
      "execution_count": null,
      "metadata": {
        "id": "sNBnlFf0Mf6V"
      },
      "outputs": [],
      "source": [
        "# this path should show to the folder from the project\n",
        "# this folder will have to have two subfolders one for masks and one for images\n",
        "path = \"/content/drive/MyDrive/Adrian/Semantic Segmentation-Laura Ulrich/Voronoi/Maskenbausteine kombiniert/\""
      ]
    },
    {
      "cell_type": "markdown",
      "metadata": {
        "id": "yBWfKdjBMhCE"
      },
      "source": [
        "First part of the function that can find the mask to an image, again just use filename to find repecitve on"
      ]
    },
    {
      "cell_type": "code",
      "execution_count": null,
      "metadata": {
        "id": "Im2XIK5tMiDN"
      },
      "outputs": [],
      "source": [
        "regex = re.compile(r'\\d+')\n",
        "\n",
        "def get_msk_hlp(image):\n",
        "  imgname = image.name\n",
        "  num = str(regex.findall(imgname)[0])\n",
        "  # this has to be edited, masks2 = name of folder containing masks\n",
        "  labelname = path+'Voronoimaskenpng224/Result_bw'+num+'.png'\n",
        "  return labelname"
      ]
    },
    {
      "cell_type": "markdown",
      "metadata": {
        "id": "RjnebrqyMjMc"
      },
      "source": [
        "Some tests, to check if masks can be found"
      ]
    },
    {
      "cell_type": "code",
      "execution_count": null,
      "metadata": {
        "id": "k2ETX_NPYxdj",
        "colab": {
          "base_uri": "https://localhost:8080/",
          "height": 35
        },
        "outputId": "390ffe8c-88e1-4875-ba65-3e5205135bff"
      },
      "outputs": [
        {
          "output_type": "execute_result",
          "data": {
            "text/plain": [
              "'/content/drive/MyDrive/Adrian/Semantic Segmentation-Laura Ulrich/Voronoi/Maskenbausteine kombiniert/Voronoimaskenpng224/Result_bw901.png'"
            ],
            "application/vnd.google.colaboratory.intrinsic+json": {
              "type": "string"
            }
          },
          "metadata": {},
          "execution_count": 29
        }
      ],
      "source": [
        "get_msk_hlp(fnames[0])"
      ]
    },
    {
      "cell_type": "code",
      "execution_count": null,
      "metadata": {
        "id": "yr9UaGmRJGrR",
        "colab": {
          "base_uri": "https://localhost:8080/"
        },
        "outputId": "110a2cec-fa61-4e35-80f8-2b97721fcc2d"
      },
      "outputs": [
        {
          "output_type": "execute_result",
          "data": {
            "text/plain": [
              "Path('/content/drive/MyDrive/Adrian/Semantic Segmentation-Laura Ulrich/Voronoi/Maskenbausteine kombiniert/Voronoibilderpng224/Result901.png')"
            ]
          },
          "metadata": {},
          "execution_count": 30
        }
      ],
      "source": [
        "fnames[0]"
      ]
    },
    {
      "cell_type": "code",
      "execution_count": null,
      "metadata": {
        "id": "uDq9ECnYHrt2",
        "colab": {
          "base_uri": "https://localhost:8080/",
          "height": 241
        },
        "outputId": "a955741d-c587-410c-8f63-5e12fbe26c61"
      },
      "outputs": [
        {
          "output_type": "execute_result",
          "data": {
            "text/plain": [
              "<PIL.PngImagePlugin.PngImageFile image mode=L size=224x224>"
            ],
            "image/png": "[encoded data removed]"
          },
          "metadata": {},
          "execution_count": 31
        }
      ],
      "source": [
        "Image.open(fnames[0])"
      ]
    },
    {
      "cell_type": "code",
      "execution_count": null,
      "metadata": {
        "id": "OXCBL2WXHrw5",
        "colab": {
          "base_uri": "https://localhost:8080/",
          "height": 241
        },
        "outputId": "5db80572-6930-40fe-a663-233b81726ae9"
      },
      "outputs": [
        {
          "output_type": "execute_result",
          "data": {
            "text/plain": [
              "<PIL.PngImagePlugin.PngImageFile image mode=P size=224x224>"
            ],
            "image/png": "[encoded data removed]"
          },
          "metadata": {},
          "execution_count": 32
        }
      ],
      "source": [
        "Image.open(get_msk_hlp(fnames[0]))"
      ]
    },
    {
      "cell_type": "code",
      "execution_count": null,
      "metadata": {
        "id": "bg0zRDzULxFU"
      },
      "outputs": [],
      "source": [
        "# weiß = spröde\n",
        "# schwarz = duktil"
      ]
    },
    {
      "cell_type": "code",
      "execution_count": null,
      "metadata": {
        "id": "ZaN7tyf6XCWI"
      },
      "outputs": [],
      "source": [
        "def get_msk(fn, p2c):\n",
        "  fn = get_msk_hlp(fn)\n",
        "  msk = np.array(PILMask.create(fn))\n",
        "  for i, val in enumerate(p2c):\n",
        "    msk[msk==p2c[i]] = val\n",
        "  return PILMask.create(msk)"
      ]
    },
    {
      "cell_type": "markdown",
      "metadata": {
        "id": "qhKDpWQvWEHq"
      },
      "source": [
        "## Create Dataloader, from DataBlock"
      ]
    },
    {
      "cell_type": "code",
      "execution_count": null,
      "metadata": {
        "id": "ZHglq2CUZdUa"
      },
      "outputs": [],
      "source": [
        "codes = ['sproede', 'duktil']"
      ]
    },
    {
      "cell_type": "code",
      "execution_count": null,
      "metadata": {
        "id": "FtPnBuuDZdXU"
      },
      "outputs": [],
      "source": [
        "get_y = lambda o: get_msk(o, p2c)"
      ]
    },
    {
      "cell_type": "code",
      "execution_count": null,
      "metadata": {
        "id": "w2mnQn71ZdZ5"
      },
      "outputs": [],
      "source": [
        "binary = DataBlock(blocks=(ImageBlock, MaskBlock(codes)),\n",
        "                   get_items=get_image_files,\n",
        "                   splitter=RandomSplitter(),\n",
        "                   get_y=get_y,\n",
        "                   batch_tfms=[Normalize.from_stats(*imagenet_stats)])"
      ]
    },
    {
      "cell_type": "code",
      "execution_count": null,
      "metadata": {
        "id": "OtuUK53UZdcy",
        "colab": {
          "base_uri": "https://localhost:8080/"
        },
        "outputId": "584f3dc2-704c-415b-9ec4-b1351a8257bd"
      },
      "outputs": [
        {
          "output_type": "stream",
          "name": "stdout",
          "text": [
            "['Result901.png', 'Result902.png', 'Result903.png', 'Result904.png', 'Result905.png', 'Result906.png', 'Result907.png', 'Result908.png', 'Result909.png', 'Result911.png', 'Result910.png', 'Result912.png', 'Result913.png', 'Result914.png', 'Result915.png', 'Result917.png', 'Result916.png', 'Result919.png', 'Result918.png', 'Result920.png', 'Result922.png', 'Result921.png', 'Result923.png', 'Result924.png', 'Result925.png', 'Result926.png', 'Result927.png', 'Result928.png', 'Result929.png', 'Result930.png', 'Result931.png', 'Result932.png', 'Result933.png', 'Result934.png', 'Result936.png', 'Result935.png', 'Result937.png', 'Result938.png', 'Result939.png', 'Result940.png', 'Result942.png', 'Result941.png', 'Result943.png', 'Result945.png', 'Result944.png', 'Result946.png', 'Result947.png', 'Result948.png', 'Result949.png', 'Result950.png', 'Result951.png', 'Result952.png', 'Result953.png', 'Result954.png', 'Result955.png', 'Result956.png', 'Result957.png', 'Result958.png', 'Result959.png', 'Result960.png', 'Result961.png', 'Result962.png', 'Result963.png', 'Result964.png', 'Result965.png', 'Result966.png', 'Result967.png', 'Result968.png', 'Result970.png', 'Result969.png', 'Result971.png', 'Result972.png', 'Result973.png', 'Result974.png', 'Result975.png', 'Result976.png', 'Result977.png', 'Result978.png', 'Result979.png', 'Result980.png', 'Result981.png', 'Result982.png', 'Result983.png', 'Result984.png', 'Result985.png', 'Result986.png', 'Result987.png', 'Result988.png', 'Result989.png', 'Result990.png', 'Result991.png', 'Result992.png', 'Result993.png', 'Result994.png', 'Result995.png', 'Result996.png', 'Result997.png', 'Result998.png', 'Result999.png', 'Result4128.png', 'Result4129.png', 'Result4130.png', 'Result4131.png', 'Result4132.png', 'Result4133.png', 'Result4134.png', 'Result4135.png', 'Result4136.png', 'Result4137.png', 'Result4138.png', 'Result4139.png', 'Result4140.png', 'Result4141.png', 'Result4142.png', 'Result4143.png', 'Result4144.png', 'Result4145.png', 'Result4146.png', 'Result4147.png', 'Result4148.png', 'Result4149.png', 'Result4150.png', 'Result4151.png', 'Result4153.png', 'Result4152.png', 'Result4154.png', 'Result4155.png', 'Result4156.png', 'Result4157.png', 'Result4158.png', 'Result4159.png', 'Result4160.png', 'Result4161.png', 'Result4162.png', 'Result4163.png', 'Result4164.png', 'Result4165.png', 'Result4166.png', 'Result4167.png', 'Result4168.png', 'Result4169.png', 'Result4170.png', 'Result4171.png', 'Result4173.png', 'Result4172.png', 'Result4174.png', 'Result4175.png', 'Result4176.png', 'Result4177.png', 'Result4178.png', 'Result4179.png', 'Result4180.png', 'Result4181.png', 'Result4183.png', 'Result4182.png', 'Result4184.png', 'Result4185.png', 'Result4186.png', 'Result4187.png', 'Result4188.png', 'Result4189.png', 'Result4190.png', 'Result4191.png', 'Result4192.png', 'Result4193.png', 'Result4195.png', 'Result4194.png', 'Result4196.png', 'Result4197.png', 'Result4198.png', 'Result4200.png', 'Result4199.png', 'Result4201.png', 'Result4202.png', 'Result4203.png', 'Result4204.png', 'Result4205.png', 'Result4206.png', 'Result4207.png', 'Result4208.png', 'Result4209.png', 'Result4210.png', 'Result4211.png', 'Result4212.png', 'Result4213.png', 'Result4214.png', 'Result4215.png', 'Result4216.png', 'Result4217.png', 'Result4218.png', 'Result4220.png', 'Result4219.png', 'Result4221.png', 'Result4222.png', 'Result4223.png', 'Result4225.png', 'Result4224.png', 'Result4226.png', 'Result4227.png', 'Result4228.png', 'Result4229.png', 'Result4230.png', 'Result4231.png', 'Result4232.png', 'Result4233.png', 'Result4234.png', 'Result4235.png', 'Result4236.png', 'Result4237.png', 'Result4238.png', 'Result4239.png', 'Result4240.png', 'Result4241.png', 'Result4242.png', 'Result4243.png', 'Result4244.png', 'Result4245.png', 'Result4247.png', 'Result4246.png', 'Result4248.png', 'Result4250.png', 'Result4249.png', 'Result4252.png', 'Result4251.png', 'Result4253.png', 'Result4255.png', 'Result4254.png', 'Result4256.png', 'Result4257.png', 'Result4258.png', 'Result4259.png', 'Result4260.png', 'Result4261.png', 'Result4263.png', 'Result4262.png', 'Result4264.png', 'Result4265.png', 'Result4266.png', 'Result4267.png', 'Result4268.png', 'Result4269.png', 'Result4270.png', 'Result4271.png', 'Result4272.png', 'Result4274.png', 'Result4273.png', 'Result4275.png', 'Result4276.png', 'Result4277.png', 'Result4279.png', 'Result4278.png', 'Result4280.png', 'Result4282.png', 'Result4281.png', 'Result4283.png', 'Result4284.png', 'Result4285.png', 'Result4286.png', 'Result4287.png', 'Result4288.png', 'Result4289.png', 'Result4290.png', 'Result4291.png', 'Result4293.png', 'Result4292.png', 'Result4294.png', 'Result4295.png', 'Result4296.png', 'Result4298.png', 'Result4297.png', 'Result4299.png', 'Result4300.png', 'Result4301.png', 'Result4302.png', 'Result4303.png', 'Result4304.png', 'Result4305.png', 'Result4306.png', 'Result4307.png', 'Result4308.png', 'Result4309.png', 'Result4310.png', 'Result4311.png', 'Result4313.png', 'Result4312.png', 'Result4314.png', 'Result4315.png', 'Result4316.png', 'Result4317.png', 'Result4318.png', 'Result4319.png', 'Result4320.png', 'Result4321.png', 'Result4322.png', 'Result4323.png', 'Result4324.png', 'Result4325.png', 'Result4327.png', 'Result4326.png', 'Result4328.png', 'Result4329.png', 'Result4330.png', 'Result4331.png', 'Result4332.png', 'Result4333.png', 'Result4334.png', 'Result4335.png', 'Result4336.png', 'Result4337.png', 'Result4338.png', 'Result4339.png', 'Result4340.png', 'Result4341.png', 'Result4342.png', 'Result4344.png', 'Result4343.png', 'Result4345.png', 'Result4346.png', 'Result4347.png', 'Result4348.png', 'Result4349.png', 'Result4350.png', 'Result4352.png', 'Result4351.png', 'Result4353.png', 'Result4354.png', 'Result4355.png', 'Result4356.png', 'Result4357.png', 'Result4358.png', 'Result4359.png', 'Result4360.png', 'Result4361.png', 'Result4362.png', 'Result4363.png', 'Result4364.png', 'Result4365.png', 'Result4366.png', 'Result4367.png', 'Result4368.png', 'Result4369.png', 'Result4370.png', 'Result4371.png', 'Result4372.png', 'Result4373.png', 'Result4374.png', 'Result4375.png', 'Result4376.png', 'Result4377.png', 'Result4378.png', 'Result4379.png', 'Result4380.png', 'Result4381.png', 'Result4382.png', 'Result4383.png', 'Result4384.png', 'Result4385.png', 'Result4386.png', 'Result4387.png', 'Result4388.png', 'Result4389.png', 'Result4390.png', 'Result4391.png', 'Result4392.png', 'Result4393.png', 'Result4394.png', 'Result4395.png', 'Result4396.png', 'Result4397.png', 'Result4398.png', 'Result4399.png', 'Result4400.png', 'Result4401.png', 'Result4402.png', 'Result4403.png', 'Result4404.png', 'Result4405.png', 'Result4406.png', 'Result4407.png', 'Result4408.png', 'Result4409.png', 'Result4410.png', 'Result4411.png', 'Result4413.png', 'Result4412.png', 'Result4414.png', 'Result4415.png', 'Result4416.png', 'Result4417.png', 'Result4418.png', 'Result4419.png', 'Result4420.png', 'Result4421.png', 'Result4422.png', 'Result4423.png', 'Result4424.png', 'Result4425.png', 'Result4426.png', 'Result4427.png', 'Result4428.png', 'Result4429.png', 'Result4430.png', 'Result4431.png', 'Result4432.png', 'Result4433.png', 'Result4434.png', 'Result4435.png', 'Result4436.png', 'Result4437.png', 'Result4438.png', 'Result4439.png', 'Result4440.png', 'Result4441.png', 'Result4442.png', 'Result4443.png', 'Result4444.png', 'Result4445.png', 'Result4446.png', 'Result4447.png', 'Result4448.png', 'Result4449.png', 'Result4450.png', 'Result4451.png', 'Result4452.png', 'Result4454.png', 'Result4453.png', 'Result4456.png', 'Result4455.png', 'Result4457.png', 'Result4458.png', 'Result4459.png', 'Result4460.png', 'Result4461.png', 'Result4462.png', 'Result4463.png', 'Result4464.png', 'Result4465.png', 'Result4466.png', 'Result4467.png', 'Result4468.png', 'Result4469.png', 'Result4470.png', 'Result4471.png', 'Result4472.png', 'Result4473.png', 'Result4474.png', 'Result4475.png', 'Result4476.png', 'Result4477.png', 'Result4478.png', 'Result4479.png', 'Result4480.png', 'Result4481.png', 'Result4482.png', 'Result4483.png', 'Result4484.png', 'Result4485.png', 'Result4486.png', 'Result4487.png', 'Result4488.png', 'Result4489.png', 'Result4491.png', 'Result4490.png', 'Result4492.png', 'Result4494.png', 'Result4493.png', 'Result4495.png', 'Result4496.png', 'Result4497.png', 'Result4498.png', 'Result4499.png', 'Result4500.png', 'Result4501.png', 'Result4502.png', 'Result4503.png', 'Result4504.png', 'Result4505.png', 'Result4506.png', 'Result4507.png', 'Result4508.png', 'Result4510.png', 'Result4509.png', 'Result4511.png', 'Result4512.png', 'Result4513.png', 'Result4514.png', 'Result4515.png', 'Result4516.png', 'Result4517.png', 'Result4518.png', 'Result4519.png', 'Result4520.png', 'Result4521.png', 'Result4523.png', 'Result4522.png', 'Result4524.png', 'Result4526.png', 'Result4525.png', 'Result4528.png', 'Result4527.png', 'Result4529.png', 'Result4530.png', 'Result4531.png', 'Result4532.png', 'Result4533.png', 'Result4534.png', 'Result4535.png', 'Result4536.png', 'Result4537.png', 'Result4539.png', 'Result4538.png', 'Result4540.png', 'Result4541.png', 'Result4542.png', 'Result4543.png', 'Result4544.png', 'Result4545.png', 'Result4546.png', 'Result4547.png', 'Result4549.png', 'Result4548.png', 'Result4550.png', 'Result4551.png', 'Result4552.png', 'Result4553.png', 'Result4554.png', 'Result4555.png', 'Result4556.png', 'Result4557.png', 'Result4558.png', 'Result4559.png', 'Result4560.png', 'Result4562.png', 'Result4561.png', 'Result4563.png', 'Result4564.png', 'Result4565.png', 'Result4566.png', 'Result4567.png', 'Result4568.png', 'Result4569.png', 'Result4570.png', 'Result4571.png', 'Result4572.png', 'Result4573.png', 'Result4574.png', 'Result4575.png', 'Result4576.png', 'Result4577.png', 'Result4578.png', 'Result4579.png', 'Result4580.png', 'Result4581.png', 'Result4582.png', 'Result4583.png', 'Result4584.png', 'Result4585.png', 'Result4586.png', 'Result4587.png', 'Result4588.png', 'Result4589.png', 'Result4590.png', 'Result4591.png', 'Result4592.png', 'Result4593.png', 'Result4594.png', 'Result4595.png', 'Result4596.png', 'Result4597.png', 'Result4598.png', 'Result4599.png', 'Result4600.png', 'Result4601.png', 'Result4602.png', 'Result4603.png', 'Result4604.png', 'Result4605.png', 'Result4606.png', 'Result4607.png', 'Result4608.png', 'Result4609.png', 'Result4610.png', 'Result4611.png', 'Result4612.png', 'Result4613.png', 'Result4614.png', 'Result4615.png', 'Result4616.png', 'Result4617.png', 'Result4618.png', 'Result4619.png', 'Result4620.png', 'Result4621.png', 'Result4622.png', 'Result4623.png', 'Result4624.png', 'Result4625.png', 'Result4626.png', 'Result4627.png', 'Result4628.png', 'Result4629.png', 'Result4631.png', 'Result4630.png', 'Result4632.png', 'Result4633.png', 'Result4634.png', 'Result4635.png', 'Result4636.png', 'Result4637.png', 'Result4638.png', 'Result4639.png', 'Result4640.png', 'Result4641.png', 'Result4642.png', 'Result4643.png', 'Result4644.png', 'Result4645.png', 'Result4646.png', 'Result4647.png', 'Result4648.png', 'Result4649.png', 'Result4650.png', 'Result4651.png', 'Result4652.png', 'Result4653.png', 'Result4654.png', 'Result4655.png', 'Result4656.png', 'Result4657.png', 'Result4658.png', 'Result4659.png', 'Result4660.png', 'Result4661.png', 'Result4662.png', 'Result4663.png', 'Result4664.png', 'Result4665.png', 'Result4666.png', 'Result4667.png', 'Result4668.png', 'Result4669.png', 'Result4671.png', 'Result4670.png', 'Result4672.png', 'Result4673.png', 'Result4675.png', 'Result4674.png', 'Result4676.png', 'Result4677.png', 'Result4678.png', 'Result4679.png', 'Result4680.png', 'Result4681.png', 'Result4682.png', 'Result4683.png', 'Result4684.png', 'Result4685.png', 'Result4686.png', 'Result4687.png', 'Result4688.png', 'Result4689.png', 'Result4690.png', 'Result4691.png', 'Result4692.png', 'Result4693.png', 'Result4694.png', 'Result4695.png', 'Result4696.png', 'Result4697.png', 'Result4698.png', 'Result4700.png', 'Result4699.png', 'Result4701.png', 'Result4702.png', 'Result4703.png', 'Result4704.png', 'Result4705.png', 'Result4706.png', 'Result4707.png', 'Result4708.png', 'Result4709.png', 'Result4710.png', 'Result4711.png', 'Result4713.png', 'Result4712.png', 'Result4714.png', 'Result4716.png', 'Result4715.png', 'Result4718.png', 'Result4717.png', 'Result4719.png', 'Result4721.png', 'Result4720.png', 'Result4722.png', 'Result4723.png', 'Result4724.png', 'Result4725.png', 'Result4726.png', 'Result4727.png', 'Result4728.png', 'Result4729.png', 'Result4730.png', 'Result4731.png', 'Result4732.png', 'Result4733.png', 'Result4734.png', 'Result4735.png', 'Result4736.png', 'Result4737.png', 'Result4739.png', 'Result4738.png', 'Result4740.png', 'Result4741.png', 'Result4742.png', 'Result4743.png', 'Result4744.png', 'Result4745.png', 'Result4746.png', 'Result4747.png', 'Result4748.png', 'Result4749.png', 'Result4750.png', 'Result4751.png', 'Result4752.png', 'Result4753.png', 'Result4754.png', 'Result4755.png', 'Result4756.png', 'Result4757.png', 'Result4758.png', 'Result4759.png', 'Result4760.png', 'Result4761.png', 'Result4762.png', 'Result4763.png', 'Result4764.png', 'Result4765.png', 'Result4766.png', 'Result4767.png', 'Result4768.png', 'Result4769.png', 'Result4770.png', 'Result4771.png', 'Result4772.png', 'Result4773.png', 'Result4775.png', 'Result4774.png', 'Result4776.png', 'Result4777.png', 'Result4778.png', 'Result4779.png', 'Result4780.png', 'Result4781.png', 'Result4782.png', 'Result4783.png', 'Result4784.png', 'Result4785.png', 'Result4786.png', 'Result4787.png', 'Result4788.png', 'Result4789.png', 'Result4790.png', 'Result4791.png', 'Result4792.png', 'Result4793.png', 'Result4794.png', 'Result4795.png', 'Result4796.png', 'Result4797.png', 'Result4798.png', 'Result4799.png', 'Result4801.png', 'Result4800.png', 'Result4802.png', 'Result4803.png', 'Result4804.png', 'Result4805.png', 'Result4806.png', 'Result4807.png', 'Result4808.png', 'Result4809.png', 'Result4810.png', 'Result4811.png', 'Result4813.png', 'Result4812.png', 'Result4814.png', 'Result4815.png', 'Result4816.png', 'Result4817.png', 'Result4818.png', 'Result4819.png', 'Result4820.png', 'Result4821.png', 'Result4822.png', 'Result4823.png', 'Result4824.png', 'Result4825.png', 'Result4826.png', 'Result4827.png', 'Result4828.png', 'Result4829.png', 'Result4830.png', 'Result4832.png', 'Result4831.png', 'Result4833.png', 'Result4834.png', 'Result4835.png', 'Result4836.png', 'Result4837.png', 'Result4838.png', 'Result4839.png', 'Result4840.png', 'Result4841.png', 'Result4842.png', 'Result4843.png', 'Result4844.png', 'Result4845.png', 'Result4846.png', 'Result4847.png', 'Result4848.png', 'Result4849.png', 'Result4850.png', 'Result4852.png', 'Result4851.png', 'Result4853.png', 'Result4854.png', 'Result4855.png', 'Result4856.png', 'Result4857.png', 'Result4858.png', 'Result4859.png', 'Result4860.png', 'Result4861.png', 'Result4862.png', 'Result4863.png', 'Result4864.png', 'Result4865.png', 'Result4866.png', 'Result4867.png', 'Result4868.png', 'Result4869.png', 'Result4871.png', 'Result4870.png', 'Result4872.png', 'Result4873.png', 'Result4874.png', 'Result4875.png', 'Result4876.png', 'Result4877.png', 'Result4878.png', 'Result4879.png', 'Result4880.png', 'Result4882.png', 'Result4881.png', 'Result4883.png', 'Result4884.png', 'Result4885.png', 'Result4886.png', 'Result4887.png', 'Result4888.png', 'Result4889.png', 'Result4890.png', 'Result4891.png', 'Result4892.png', 'Result4893.png', 'Result4894.png', 'Result4895.png', 'Result4896.png', 'Result4897.png', 'Result4898.png', 'Result4899.png', 'Result4900.png', 'Result4901.png', 'Result4902.png', 'Result4903.png', 'Result4904.png', 'Result4905.png', 'Result4906.png', 'Result4907.png', 'Result4908.png', 'Result4909.png', 'Result4910.png', 'Result4911.png', 'Result4912.png', 'Result4913.png', 'Result4915.png', 'Result4914.png', 'Result4916.png', 'Result4917.png', 'Result4918.png', 'Result4919.png', 'Result4920.png', 'Result4921.png', 'Result4922.png', 'Result4923.png', 'Result4924.png', 'Result4925.png', 'Result4926.png', 'Result4927.png', 'Result4928.png', 'Result4929.png', 'Result4930.png', 'Result4931.png', 'Result4932.png', 'Result4934.png', 'Result4933.png', 'Result4935.png', 'Result4936.png', 'Result4937.png', 'Result4938.png', 'Result4939.png', 'Result4940.png', 'Result4942.png', 'Result4941.png', 'Result4943.png', 'Result4944.png', 'Result4945.png', 'Result4946.png', 'Result4947.png', 'Result4948.png', 'Result4949.png', 'Result4950.png', 'Result4951.png', 'Result4952.png', 'Result4953.png', 'Result4955.png', 'Result4954.png', 'Result4956.png', 'Result4957.png', 'Result4958.png', 'Result4959.png', 'Result4960.png', 'Result4962.png', 'Result4961.png', 'Result4963.png', 'Result4964.png', 'Result4965.png', 'Result4966.png', 'Result4967.png', 'Result4969.png', 'Result4968.png', 'Result4971.png', 'Result4970.png', 'Result4972.png', 'Result4973.png', 'Result4974.png', 'Result4976.png', 'Result4975.png', 'Result4977.png', 'Result4978.png', 'Result4979.png', 'Result4980.png', 'Result4981.png', 'Result4982.png', 'Result4983.png', 'Result4984.png', 'Result4985.png', 'Result4986.png', 'Result4987.png', 'Result4988.png', 'Result4989.png', 'Result4990.png', 'Result4991.png', 'Result4992.png', 'Result4993.png', 'Result4995.png', 'Result4994.png', 'Result4996.png', 'Result4997.png', 'Result4998.png', 'Result4999.png', 'Result5000.png', 'Result4000.png', 'Result4001.png', 'Result4002.png', 'Result4003.png', 'Result4005.png', 'Result4004.png', 'Result4007.png', 'Result4006.png', 'Result4008.png', 'Result4009.png', 'Result4010.png', 'Result4011.png', 'Result4012.png', 'Result4013.png', 'Result4015.png', 'Result4014.png', 'Result4016.png', 'Result4017.png', 'Result4018.png', 'Result4019.png', 'Result4020.png', 'Result4021.png', 'Result4022.png', 'Result4023.png', 'Result4024.png', 'Result4025.png', 'Result4026.png', 'Result4027.png', 'Result1.png', 'Result2.png', 'Result3.png', 'Result4.png', 'Result5.png', 'Result6.png', 'Result7.png', 'Result8.png', 'Result9.png', 'Result10.png', 'Result11.png', 'Result12.png', 'Result13.png', 'Result14.png', 'Result15.png', 'Result16.png', 'Result18.png', 'Result17.png', 'Result19.png', 'Result20.png', 'Result21.png', 'Result23.png', 'Result22.png', 'Result24.png', 'Result26.png', 'Result25.png', 'Result27.png', 'Result28.png', 'Result29.png', 'Result30.png', 'Result31.png', 'Result32.png', 'Result33.png', 'Result34.png', 'Result36.png', 'Result35.png', 'Result38.png', 'Result37.png', 'Result39.png', 'Result40.png', 'Result41.png', 'Result42.png', 'Result43.png', 'Result44.png', 'Result45.png', 'Result46.png', 'Result47.png', 'Result48.png', 'Result49.png', 'Result50.png', 'Result51.png', 'Result53.png', 'Result52.png', 'Result54.png', 'Result55.png', 'Result56.png', 'Result57.png', 'Result58.png', 'Result60.png', 'Result59.png', 'Result61.png', 'Result62.png', 'Result63.png', 'Result65.png', 'Result64.png', 'Result66.png', 'Result67.png', 'Result68.png', 'Result69.png', 'Result70.png', 'Result71.png', 'Result72.png', 'Result73.png', 'Result75.png', 'Result74.png', 'Result76.png', 'Result77.png', 'Result78.png', 'Result80.png', 'Result79.png', 'Result81.png', 'Result83.png', 'Result82.png', 'Result84.png', 'Result85.png', 'Result86.png', 'Result87.png', 'Result88.png', 'Result89.png', 'Result90.png', 'Result91.png', 'Result92.png', 'Result93.png', 'Result94.png', 'Result95.png', 'Result96.png', 'Result97.png', 'Result98.png', 'Result99.png', 'Result100.png', 'Result101.png', 'Result102.png', 'Result103.png', 'Result104.png', 'Result105.png', 'Result106.png', 'Result107.png', 'Result108.png', 'Result109.png', 'Result110.png', 'Result111.png', 'Result112.png', 'Result113.png', 'Result114.png', 'Result116.png', 'Result115.png', 'Result117.png', 'Result118.png', 'Result119.png', 'Result120.png', 'Result121.png', 'Result122.png', 'Result123.png', 'Result124.png', 'Result125.png', 'Result126.png', 'Result127.png', 'Result128.png', 'Result129.png', 'Result130.png', 'Result132.png', 'Result131.png', 'Result133.png', 'Result134.png', 'Result135.png', 'Result136.png', 'Result137.png', 'Result138.png', 'Result140.png', 'Result139.png', 'Result141.png', 'Result142.png', 'Result143.png', 'Result144.png', 'Result145.png', 'Result146.png', 'Result148.png', 'Result147.png', 'Result149.png', 'Result150.png', 'Result151.png', 'Result152.png', 'Result153.png', 'Result154.png', 'Result155.png', 'Result156.png', 'Result158.png', 'Result157.png', 'Result159.png', 'Result160.png', 'Result161.png', 'Result162.png', 'Result163.png', 'Result164.png', 'Result165.png', 'Result166.png', 'Result167.png', 'Result168.png', 'Result169.png', 'Result170.png', 'Result171.png', 'Result173.png', 'Result172.png', 'Result174.png', 'Result175.png', 'Result176.png', 'Result178.png', 'Result177.png', 'Result179.png', 'Result180.png', 'Result181.png', 'Result182.png', 'Result183.png', 'Result184.png', 'Result185.png', 'Result186.png', 'Result187.png', 'Result188.png', 'Result189.png', 'Result190.png', 'Result191.png', 'Result192.png', 'Result193.png', 'Result194.png', 'Result195.png', 'Result196.png', 'Result198.png', 'Result197.png', 'Result199.png', 'Result200.png', 'Result201.png', 'Result202.png', 'Result203.png', 'Result204.png', 'Result205.png', 'Result206.png', 'Result207.png', 'Result208.png', 'Result209.png', 'Result210.png', 'Result211.png', 'Result212.png', 'Result213.png', 'Result214.png', 'Result215.png', 'Result216.png', 'Result217.png', 'Result218.png', 'Result219.png', 'Result221.png', 'Result220.png', 'Result222.png', 'Result223.png', 'Result224.png', 'Result225.png', 'Result226.png', 'Result227.png', 'Result228.png', 'Result230.png', 'Result229.png', 'Result231.png', 'Result232.png', 'Result233.png', 'Result234.png', 'Result235.png', 'Result236.png', 'Result237.png', 'Result239.png', 'Result238.png', 'Result240.png', 'Result241.png', 'Result242.png', 'Result243.png', 'Result244.png', 'Result245.png', 'Result247.png', 'Result246.png', 'Result248.png', 'Result249.png', 'Result250.png', 'Result251.png', 'Result252.png', 'Result253.png', 'Result254.png', 'Result255.png', 'Result256.png', 'Result257.png', 'Result258.png', 'Result259.png', 'Result260.png', 'Result261.png', 'Result262.png', 'Result263.png', 'Result264.png', 'Result265.png', 'Result266.png', 'Result267.png', 'Result268.png', 'Result269.png', 'Result270.png', 'Result271.png', 'Result272.png', 'Result273.png', 'Result274.png', 'Result275.png', 'Result276.png', 'Result277.png', 'Result278.png', 'Result279.png', 'Result280.png', 'Result281.png', 'Result282.png', 'Result283.png', 'Result284.png', 'Result285.png', 'Result286.png', 'Result287.png', 'Result288.png', 'Result289.png', 'Result290.png', 'Result291.png', 'Result292.png', 'Result293.png', 'Result294.png', 'Result295.png', 'Result296.png', 'Result297.png', 'Result298.png', 'Result299.png', 'Result300.png', 'Result301.png', 'Result302.png', 'Result303.png', 'Result304.png', 'Result305.png', 'Result306.png', 'Result307.png', 'Result308.png', 'Result309.png', 'Result310.png', 'Result312.png', 'Result311.png', 'Result313.png', 'Result314.png', 'Result316.png', 'Result315.png', 'Result317.png', 'Result318.png', 'Result319.png', 'Result320.png', 'Result321.png', 'Result322.png', 'Result323.png', 'Result324.png', 'Result325.png', 'Result326.png', 'Result328.png', 'Result327.png', 'Result329.png', 'Result330.png', 'Result331.png', 'Result332.png', 'Result333.png', 'Result334.png', 'Result336.png', 'Result335.png', 'Result337.png', 'Result338.png', 'Result339.png', 'Result340.png', 'Result342.png', 'Result341.png', 'Result343.png', 'Result344.png', 'Result345.png', 'Result346.png', 'Result347.png', 'Result348.png', 'Result349.png', 'Result350.png', 'Result351.png', 'Result352.png', 'Result353.png', 'Result354.png', 'Result355.png', 'Result356.png', 'Result357.png', 'Result359.png', 'Result358.png', 'Result360.png', 'Result361.png', 'Result362.png', 'Result363.png', 'Result364.png', 'Result365.png', 'Result366.png', 'Result367.png', 'Result368.png', 'Result369.png', 'Result370.png', 'Result371.png', 'Result372.png', 'Result373.png', 'Result374.png', 'Result375.png', 'Result376.png', 'Result377.png', 'Result378.png', 'Result379.png', 'Result380.png', 'Result382.png', 'Result381.png', 'Result383.png', 'Result384.png', 'Result385.png', 'Result386.png', 'Result388.png', 'Result387.png', 'Result389.png', 'Result390.png', 'Result391.png', 'Result392.png', 'Result393.png', 'Result394.png', 'Result395.png', 'Result396.png', 'Result397.png', 'Result398.png', 'Result399.png', 'Result400.png', 'Result401.png', 'Result403.png', 'Result402.png', 'Result404.png', 'Result405.png', 'Result406.png', 'Result407.png', 'Result408.png', 'Result409.png', 'Result410.png', 'Result411.png', 'Result412.png', 'Result413.png', 'Result414.png', 'Result415.png', 'Result416.png', 'Result417.png', 'Result418.png', 'Result419.png', 'Result420.png', 'Result421.png', 'Result422.png', 'Result423.png', 'Result424.png', 'Result425.png', 'Result426.png', 'Result427.png', 'Result428.png', 'Result430.png', 'Result429.png', 'Result431.png', 'Result432.png', 'Result433.png', 'Result434.png', 'Result435.png', 'Result436.png', 'Result438.png', 'Result437.png', 'Result439.png', 'Result440.png', 'Result441.png', 'Result442.png', 'Result443.png', 'Result444.png', 'Result445.png', 'Result446.png', 'Result447.png', 'Result448.png', 'Result449.png', 'Result451.png', 'Result450.png', 'Result452.png', 'Result453.png', 'Result454.png', 'Result455.png', 'Result456.png', 'Result457.png', 'Result458.png', 'Result459.png', 'Result460.png', 'Result461.png', 'Result462.png', 'Result464.png', 'Result463.png', 'Result465.png', 'Result466.png', 'Result467.png', 'Result468.png', 'Result469.png', 'Result470.png', 'Result471.png', 'Result472.png', 'Result473.png', 'Result474.png', 'Result475.png', 'Result476.png', 'Result477.png', 'Result478.png', 'Result479.png', 'Result480.png', 'Result481.png', 'Result482.png', 'Result483.png', 'Result484.png', 'Result485.png', 'Result486.png', 'Result488.png', 'Result487.png', 'Result489.png', 'Result490.png', 'Result491.png', 'Result492.png', 'Result493.png', 'Result494.png', 'Result495.png', 'Result496.png', 'Result497.png', 'Result498.png', 'Result499.png', 'Result500.png', 'Result501.png', 'Result502.png', 'Result503.png', 'Result504.png', 'Result505.png', 'Result506.png', 'Result507.png', 'Result508.png', 'Result509.png', 'Result510.png', 'Result511.png', 'Result512.png', 'Result513.png', 'Result514.png', 'Result515.png', 'Result516.png', 'Result517.png', 'Result518.png', 'Result519.png', 'Result520.png', 'Result521.png', 'Result522.png', 'Result523.png', 'Result524.png', 'Result525.png', 'Result526.png', 'Result527.png', 'Result528.png', 'Result529.png', 'Result531.png', 'Result530.png', 'Result532.png', 'Result533.png', 'Result534.png', 'Result536.png', 'Result535.png', 'Result538.png', 'Result537.png', 'Result539.png', 'Result540.png', 'Result541.png', 'Result543.png', 'Result542.png', 'Result544.png', 'Result545.png', 'Result546.png', 'Result547.png', 'Result548.png', 'Result549.png', 'Result550.png', 'Result551.png', 'Result552.png', 'Result553.png', 'Result554.png', 'Result555.png', 'Result556.png', 'Result557.png', 'Result558.png', 'Result559.png', 'Result560.png', 'Result561.png', 'Result562.png', 'Result563.png', 'Result564.png', 'Result565.png', 'Result566.png', 'Result567.png', 'Result568.png', 'Result569.png', 'Result570.png', 'Result571.png', 'Result572.png', 'Result573.png', 'Result574.png', 'Result575.png', 'Result576.png', 'Result577.png', 'Result578.png', 'Result579.png', 'Result580.png', 'Result581.png', 'Result582.png', 'Result583.png', 'Result584.png', 'Result585.png', 'Result587.png', 'Result586.png', 'Result588.png', 'Result589.png', 'Result590.png', 'Result591.png', 'Result593.png', 'Result592.png', 'Result594.png', 'Result595.png', 'Result596.png', 'Result597.png', 'Result598.png', 'Result599.png', 'Result600.png', 'Result601.png', 'Result602.png', 'Result603.png', 'Result604.png', 'Result605.png', 'Result606.png', 'Result607.png', 'Result608.png', 'Result609.png', 'Result610.png', 'Result611.png', 'Result613.png', 'Result612.png', 'Result614.png', 'Result615.png', 'Result616.png', 'Result617.png', 'Result618.png', 'Result619.png', 'Result620.png', 'Result621.png', 'Result622.png', 'Result623.png', 'Result625.png', 'Result624.png', 'Result626.png', 'Result627.png', 'Result628.png', 'Result629.png', 'Result630.png', 'Result631.png', 'Result632.png', 'Result633.png', 'Result634.png', 'Result635.png', 'Result636.png', 'Result637.png', 'Result638.png', 'Result639.png', 'Result640.png', 'Result641.png', 'Result642.png', 'Result643.png', 'Result644.png', 'Result645.png', 'Result646.png', 'Result647.png', 'Result648.png', 'Result649.png', 'Result650.png', 'Result651.png', 'Result652.png', 'Result653.png', 'Result654.png', 'Result655.png', 'Result657.png', 'Result656.png', 'Result658.png', 'Result659.png', 'Result660.png', 'Result661.png', 'Result662.png', 'Result663.png', 'Result664.png', 'Result665.png', 'Result666.png', 'Result667.png', 'Result668.png', 'Result669.png', 'Result670.png', 'Result671.png', 'Result672.png', 'Result673.png', 'Result674.png', 'Result675.png', 'Result676.png', 'Result677.png', 'Result678.png', 'Result679.png', 'Result680.png', 'Result681.png', 'Result682.png', 'Result683.png', 'Result684.png', 'Result685.png', 'Result686.png', 'Result687.png', 'Result688.png', 'Result689.png', 'Result690.png', 'Result691.png', 'Result692.png', 'Result693.png', 'Result694.png', 'Result695.png', 'Result697.png', 'Result696.png', 'Result698.png', 'Result699.png', 'Result700.png', 'Result701.png', 'Result702.png', 'Result703.png', 'Result704.png', 'Result705.png', 'Result706.png', 'Result707.png', 'Result708.png', 'Result709.png', 'Result710.png', 'Result711.png', 'Result712.png', 'Result714.png', 'Result713.png', 'Result715.png', 'Result716.png', 'Result717.png', 'Result718.png', 'Result719.png', 'Result720.png', 'Result721.png', 'Result722.png', 'Result723.png', 'Result724.png', 'Result725.png', 'Result726.png', 'Result727.png', 'Result728.png', 'Result729.png', 'Result730.png', 'Result731.png', 'Result732.png', 'Result733.png', 'Result734.png', 'Result735.png', 'Result736.png', 'Result737.png', 'Result738.png', 'Result739.png', 'Result740.png', 'Result741.png', 'Result742.png', 'Result743.png', 'Result744.png', 'Result745.png', 'Result746.png', 'Result747.png', 'Result748.png', 'Result749.png', 'Result751.png', 'Result750.png', 'Result752.png', 'Result753.png', 'Result754.png', 'Result755.png', 'Result756.png', 'Result757.png', 'Result758.png', 'Result759.png', 'Result760.png', 'Result761.png', 'Result762.png', 'Result763.png', 'Result764.png', 'Result765.png', 'Result766.png', 'Result767.png', 'Result768.png', 'Result769.png', 'Result770.png', 'Result771.png', 'Result772.png', 'Result773.png', 'Result774.png', 'Result775.png', 'Result776.png', 'Result777.png', 'Result778.png', 'Result779.png', 'Result780.png', 'Result781.png', 'Result782.png', 'Result783.png', 'Result784.png', 'Result785.png', 'Result786.png', 'Result787.png', 'Result788.png', 'Result789.png', 'Result790.png', 'Result791.png', 'Result792.png', 'Result793.png', 'Result794.png', 'Result795.png', 'Result796.png', 'Result797.png', 'Result798.png', 'Result799.png', 'Result800.png', 'Result801.png', 'Result802.png', 'Result803.png', 'Result804.png', 'Result805.png', 'Result806.png', 'Result807.png', 'Result808.png', 'Result809.png', 'Result810.png', 'Result811.png', 'Result812.png', 'Result813.png', 'Result814.png', 'Result815.png', 'Result816.png', 'Result817.png', 'Result818.png', 'Result819.png', 'Result820.png', 'Result821.png', 'Result822.png', 'Result823.png', 'Result824.png', 'Result825.png', 'Result826.png', 'Result827.png', 'Result828.png', 'Result829.png', 'Result830.png', 'Result831.png', 'Result832.png', 'Result833.png', 'Result834.png', 'Result835.png', 'Result836.png', 'Result837.png', 'Result838.png', 'Result839.png', 'Result840.png', 'Result841.png', 'Result842.png', 'Result843.png', 'Result844.png', 'Result845.png', 'Result846.png', 'Result847.png', 'Result848.png', 'Result849.png', 'Result850.png', 'Result851.png', 'Result853.png', 'Result852.png', 'Result854.png', 'Result855.png', 'Result856.png', 'Result857.png', 'Result858.png', 'Result859.png', 'Result861.png', 'Result860.png', 'Result862.png', 'Result863.png', 'Result864.png', 'Result865.png', 'Result866.png', 'Result867.png', 'Result868.png', 'Result869.png', 'Result871.png', 'Result870.png', 'Result872.png', 'Result873.png', 'Result874.png', 'Result875.png', 'Result877.png', 'Result876.png', 'Result878.png', 'Result880.png', 'Result879.png', 'Result881.png', 'Result882.png', 'Result883.png', 'Result884.png', 'Result885.png', 'Result886.png', 'Result887.png', 'Result888.png', 'Result890.png', 'Result889.png', 'Result891.png', 'Result892.png', 'Result893.png', 'Result894.png', 'Result895.png', 'Result896.png', 'Result897.png', 'Result898.png', 'Result899.png', 'Result900.png']\n"
          ]
        }
      ],
      "source": [
        "dls2 = binary.dataloaders(path+'Voronoibilderpng224', bs=2) #bs=8\n",
        "print(os.listdir(path+'Voronoibilderpng224'))"
      ]
    },
    {
      "cell_type": "code",
      "execution_count": null,
      "metadata": {
        "id": "to357939ZdfY",
        "colab": {
          "base_uri": "https://localhost:8080/",
          "height": 248
        },
        "outputId": "6350ad3e-3216-483c-f104-386d162c0ed4"
      },
      "outputs": [
        {
          "output_type": "display_data",
          "data": {
            "text/plain": [
              "<Figure size 600x300 with 2 Axes>"
            ],
            "image/png": "[encoded data removed]"
          },
          "metadata": {}
        }
      ],
      "source": [
        "dls2.show_batch(cmap='Blues', vmin=0, vmax=1)"
      ]
    },
    {
      "cell_type": "markdown",
      "metadata": {
        "id": "8NTV0zoiWMq-"
      },
      "source": [
        "### Create Model"
      ]
    },
    {
      "cell_type": "code",
      "execution_count": null,
      "metadata": {
        "id": "4GxAdm7GZdiC",
        "colab": {
          "base_uri": "https://localhost:8080/"
        },
        "outputId": "102dc034-9cd1-4e6c-dc00-df7df3ddb2a0"
      },
      "outputs": [
        {
          "output_type": "stream",
          "name": "stderr",
          "text": [
            "/usr/local/lib/python3.10/dist-packages/torchvision/models/_utils.py:208: UserWarning: The parameter 'pretrained' is deprecated since 0.13 and may be removed in the future, please use 'weights' instead.\n",
            "  warnings.warn(\n",
            "/usr/local/lib/python3.10/dist-packages/torchvision/models/_utils.py:223: UserWarning: Arguments other than a weight enum or `None` for 'weights' are deprecated since 0.13 and may be removed in the future. The current behavior is equivalent to passing `weights=ResNet101_Weights.IMAGENET1K_V1`. You can also use `weights=ResNet101_Weights.DEFAULT` to get the most up-to-date weights.\n",
            "  warnings.warn(msg)\n",
            "Downloading: \"https://download.pytorch.org/models/resnet101-63fe2227.pth\" to /root/.cache/torch/hub/checkpoints/resnet101-63fe2227.pth\n",
            "100%|██████████| 171M/171M [00:03<00:00, 48.4MB/s]\n"
          ]
        }
      ],
      "source": [
        "learn2 = unet_learner(dls2, resnet101)"
      ]
    },
    {
      "cell_type": "code",
      "execution_count": null,
      "metadata": {
        "id": "k-hTNLaLLZXA"
      },
      "outputs": [],
      "source": [
        "learn2.freeze_to(0)"
      ]
    },
    {
      "cell_type": "code",
      "execution_count": null,
      "metadata": {
        "id": "tDQQncJELZeC",
        "colab": {
          "base_uri": "https://localhost:8080/",
          "height": 1000
        },
        "outputId": "a9722845-3600-424f-de65-29f38dd2c049"
      },
      "outputs": [
        {
          "output_type": "display_data",
          "data": {
            "text/plain": [
              "<IPython.core.display.HTML object>"
            ],
            "text/html": [
              "\n",
              "<style>\n",
              "    /* Turns off some styling */\n",
              "    progress {\n",
              "        /* gets rid of default border in Firefox and Opera. */\n",
              "        border: none;\n",
              "        /* Needs to be in here for Safari polyfill so background images work as expected. */\n",
              "        background-size: auto;\n",
              "    }\n",
              "    progress:not([value]), progress:not([value])::-webkit-progress-bar {\n",
              "        background: repeating-linear-gradient(45deg, #7e7e7e, #7e7e7e 10px, #5c5c5c 10px, #5c5c5c 20px);\n",
              "    }\n",
              "    .progress-bar-interrupted, .progress-bar-interrupted::-webkit-progress-bar {\n",
              "        background: #F44336;\n",
              "    }\n",
              "</style>\n"
            ]
          },
          "metadata": {}
        },
        {
          "output_type": "display_data",
          "data": {
            "text/plain": [
              "<IPython.core.display.HTML object>"
            ],
            "text/html": []
          },
          "metadata": {}
        },
        {
          "output_type": "execute_result",
          "data": {
            "text/plain": [
              "DynamicUnet (Input shape: 2 x 3 x 224 x 224)\n",
              "============================================================================\n",
              "Layer (type)         Output Shape         Param #    Trainable \n",
              "============================================================================\n",
              "                     2 x 64 x 112 x 112  \n",
              "Conv2d                                    9408       True      \n",
              "BatchNorm2d                               128        True      \n",
              "ReLU                                                           \n",
              "____________________________________________________________________________\n",
              "                     2 x 64 x 56 x 56    \n",
              "MaxPool2d                                                      \n",
              "Conv2d                                    4096       True      \n",
              "BatchNorm2d                               128        True      \n",
              "Conv2d                                    36864      True      \n",
              "BatchNorm2d                               128        True      \n",
              "____________________________________________________________________________\n",
              "                     2 x 256 x 56 x 56   \n",
              "Conv2d                                    16384      True      \n",
              "BatchNorm2d                               512        True      \n",
              "ReLU                                                           \n",
              "Conv2d                                    16384      True      \n",
              "BatchNorm2d                               512        True      \n",
              "____________________________________________________________________________\n",
              "                     2 x 64 x 56 x 56    \n",
              "Conv2d                                    16384      True      \n",
              "BatchNorm2d                               128        True      \n",
              "Conv2d                                    36864      True      \n",
              "BatchNorm2d                               128        True      \n",
              "____________________________________________________________________________\n",
              "                     2 x 256 x 56 x 56   \n",
              "Conv2d                                    16384      True      \n",
              "BatchNorm2d                               512        True      \n",
              "ReLU                                                           \n",
              "____________________________________________________________________________\n",
              "                     2 x 64 x 56 x 56    \n",
              "Conv2d                                    16384      True      \n",
              "BatchNorm2d                               128        True      \n",
              "Conv2d                                    36864      True      \n",
              "BatchNorm2d                               128        True      \n",
              "____________________________________________________________________________\n",
              "                     2 x 256 x 56 x 56   \n",
              "Conv2d                                    16384      True      \n",
              "BatchNorm2d                               512        True      \n",
              "ReLU                                                           \n",
              "____________________________________________________________________________\n",
              "                     2 x 128 x 56 x 56   \n",
              "Conv2d                                    32768      True      \n",
              "BatchNorm2d                               256        True      \n",
              "____________________________________________________________________________\n",
              "                     2 x 128 x 28 x 28   \n",
              "Conv2d                                    147456     True      \n",
              "BatchNorm2d                               256        True      \n",
              "____________________________________________________________________________\n",
              "                     2 x 512 x 28 x 28   \n",
              "Conv2d                                    65536      True      \n",
              "BatchNorm2d                               1024       True      \n",
              "ReLU                                                           \n",
              "Conv2d                                    131072     True      \n",
              "BatchNorm2d                               1024       True      \n",
              "____________________________________________________________________________\n",
              "                     2 x 128 x 28 x 28   \n",
              "Conv2d                                    65536      True      \n",
              "BatchNorm2d                               256        True      \n",
              "Conv2d                                    147456     True      \n",
              "BatchNorm2d                               256        True      \n",
              "____________________________________________________________________________\n",
              "                     2 x 512 x 28 x 28   \n",
              "Conv2d                                    65536      True      \n",
              "BatchNorm2d                               1024       True      \n",
              "ReLU                                                           \n",
              "____________________________________________________________________________\n",
              "                     2 x 128 x 28 x 28   \n",
              "Conv2d                                    65536      True      \n",
              "BatchNorm2d                               256        True      \n",
              "Conv2d                                    147456     True      \n",
              "BatchNorm2d                               256        True      \n",
              "____________________________________________________________________________\n",
              "                     2 x 512 x 28 x 28   \n",
              "Conv2d                                    65536      True      \n",
              "BatchNorm2d                               1024       True      \n",
              "ReLU                                                           \n",
              "____________________________________________________________________________\n",
              "                     2 x 128 x 28 x 28   \n",
              "Conv2d                                    65536      True      \n",
              "BatchNorm2d                               256        True      \n",
              "Conv2d                                    147456     True      \n",
              "BatchNorm2d                               256        True      \n",
              "____________________________________________________________________________\n",
              "                     2 x 512 x 28 x 28   \n",
              "Conv2d                                    65536      True      \n",
              "BatchNorm2d                               1024       True      \n",
              "ReLU                                                           \n",
              "____________________________________________________________________________\n",
              "                     2 x 256 x 28 x 28   \n",
              "Conv2d                                    131072     True      \n",
              "BatchNorm2d                               512        True      \n",
              "____________________________________________________________________________\n",
              "                     2 x 256 x 14 x 14   \n",
              "Conv2d                                    589824     True      \n",
              "BatchNorm2d                               512        True      \n",
              "____________________________________________________________________________\n",
              "                     2 x 1024 x 14 x 14  \n",
              "Conv2d                                    262144     True      \n",
              "BatchNorm2d                               2048       True      \n",
              "ReLU                                                           \n",
              "Conv2d                                    524288     True      \n",
              "BatchNorm2d                               2048       True      \n",
              "____________________________________________________________________________\n",
              "                     2 x 256 x 14 x 14   \n",
              "Conv2d                                    262144     True      \n",
              "BatchNorm2d                               512        True      \n",
              "Conv2d                                    589824     True      \n",
              "BatchNorm2d                               512        True      \n",
              "____________________________________________________________________________\n",
              "                     2 x 1024 x 14 x 14  \n",
              "Conv2d                                    262144     True      \n",
              "BatchNorm2d                               2048       True      \n",
              "ReLU                                                           \n",
              "____________________________________________________________________________\n",
              "                     2 x 256 x 14 x 14   \n",
              "Conv2d                                    262144     True      \n",
              "BatchNorm2d                               512        True      \n",
              "Conv2d                                    589824     True      \n",
              "BatchNorm2d                               512        True      \n",
              "____________________________________________________________________________\n",
              "                     2 x 1024 x 14 x 14  \n",
              "Conv2d                                    262144     True      \n",
              "BatchNorm2d                               2048       True      \n",
              "ReLU                                                           \n",
              "____________________________________________________________________________\n",
              "                     2 x 256 x 14 x 14   \n",
              "Conv2d                                    262144     True      \n",
              "BatchNorm2d                               512        True      \n",
              "Conv2d                                    589824     True      \n",
              "BatchNorm2d                               512        True      \n",
              "____________________________________________________________________________\n",
              "                     2 x 1024 x 14 x 14  \n",
              "Conv2d                                    262144     True      \n",
              "BatchNorm2d                               2048       True      \n",
              "ReLU                                                           \n",
              "____________________________________________________________________________\n",
              "                     2 x 256 x 14 x 14   \n",
              "Conv2d                                    262144     True      \n",
              "BatchNorm2d                               512        True      \n",
              "Conv2d                                    589824     True      \n",
              "BatchNorm2d                               512        True      \n",
              "____________________________________________________________________________\n",
              "                     2 x 1024 x 14 x 14  \n",
              "Conv2d                                    262144     True      \n",
              "BatchNorm2d                               2048       True      \n",
              "ReLU                                                           \n",
              "____________________________________________________________________________\n",
              "                     2 x 256 x 14 x 14   \n",
              "Conv2d                                    262144     True      \n",
              "BatchNorm2d                               512        True      \n",
              "Conv2d                                    589824     True      \n",
              "BatchNorm2d                               512        True      \n",
              "____________________________________________________________________________\n",
              "                     2 x 1024 x 14 x 14  \n",
              "Conv2d                                    262144     True      \n",
              "BatchNorm2d                               2048       True      \n",
              "ReLU                                                           \n",
              "____________________________________________________________________________\n",
              "                     2 x 256 x 14 x 14   \n",
              "Conv2d                                    262144     True      \n",
              "BatchNorm2d                               512        True      \n",
              "Conv2d                                    589824     True      \n",
              "BatchNorm2d                               512        True      \n",
              "____________________________________________________________________________\n",
              "                     2 x 1024 x 14 x 14  \n",
              "Conv2d                                    262144     True      \n",
              "BatchNorm2d                               2048       True      \n",
              "ReLU                                                           \n",
              "____________________________________________________________________________\n",
              "                     2 x 256 x 14 x 14   \n",
              "Conv2d                                    262144     True      \n",
              "BatchNorm2d                               512        True      \n",
              "Conv2d                                    589824     True      \n",
              "BatchNorm2d                               512        True      \n",
              "____________________________________________________________________________\n",
              "                     2 x 1024 x 14 x 14  \n",
              "Conv2d                                    262144     True      \n",
              "BatchNorm2d                               2048       True      \n",
              "ReLU                                                           \n",
              "____________________________________________________________________________\n",
              "                     2 x 256 x 14 x 14   \n",
              "Conv2d                                    262144     True      \n",
              "BatchNorm2d                               512        True      \n",
              "Conv2d                                    589824     True      \n",
              "BatchNorm2d                               512        True      \n",
              "____________________________________________________________________________\n",
              "                     2 x 1024 x 14 x 14  \n",
              "Conv2d                                    262144     True      \n",
              "BatchNorm2d                               2048       True      \n",
              "ReLU                                                           \n",
              "____________________________________________________________________________\n",
              "                     2 x 256 x 14 x 14   \n",
              "Conv2d                                    262144     True      \n",
              "BatchNorm2d                               512        True      \n",
              "Conv2d                                    589824     True      \n",
              "BatchNorm2d                               512        True      \n",
              "____________________________________________________________________________\n",
              "                     2 x 1024 x 14 x 14  \n",
              "Conv2d                                    262144     True      \n",
              "BatchNorm2d                               2048       True      \n",
              "ReLU                                                           \n",
              "____________________________________________________________________________\n",
              "                     2 x 256 x 14 x 14   \n",
              "Conv2d                                    262144     True      \n",
              "BatchNorm2d                               512        True      \n",
              "Conv2d                                    589824     True      \n",
              "BatchNorm2d                               512        True      \n",
              "____________________________________________________________________________\n",
              "                     2 x 1024 x 14 x 14  \n",
              "Conv2d                                    262144     True      \n",
              "BatchNorm2d                               2048       True      \n",
              "ReLU                                                           \n",
              "____________________________________________________________________________\n",
              "                     2 x 256 x 14 x 14   \n",
              "Conv2d                                    262144     True      \n",
              "BatchNorm2d                               512        True      \n",
              "Conv2d                                    589824     True      \n",
              "BatchNorm2d                               512        True      \n",
              "____________________________________________________________________________\n",
              "                     2 x 1024 x 14 x 14  \n",
              "Conv2d                                    262144     True      \n",
              "BatchNorm2d                               2048       True      \n",
              "ReLU                                                           \n",
              "____________________________________________________________________________\n",
              "                     2 x 256 x 14 x 14   \n",
              "Conv2d                                    262144     True      \n",
              "BatchNorm2d                               512        True      \n",
              "Conv2d                                    589824     True      \n",
              "BatchNorm2d                               512        True      \n",
              "____________________________________________________________________________\n",
              "                     2 x 1024 x 14 x 14  \n",
              "Conv2d                                    262144     True      \n",
              "BatchNorm2d                               2048       True      \n",
              "ReLU                                                           \n",
              "____________________________________________________________________________\n",
              "                     2 x 256 x 14 x 14   \n",
              "Conv2d                                    262144     True      \n",
              "BatchNorm2d                               512        True      \n",
              "Conv2d                                    589824     True      \n",
              "BatchNorm2d                               512        True      \n",
              "____________________________________________________________________________\n",
              "                     2 x 1024 x 14 x 14  \n",
              "Conv2d                                    262144     True      \n",
              "BatchNorm2d                               2048       True      \n",
              "ReLU                                                           \n",
              "____________________________________________________________________________\n",
              "                     2 x 256 x 14 x 14   \n",
              "Conv2d                                    262144     True      \n",
              "BatchNorm2d                               512        True      \n",
              "Conv2d                                    589824     True      \n",
              "BatchNorm2d                               512        True      \n",
              "____________________________________________________________________________\n",
              "                     2 x 1024 x 14 x 14  \n",
              "Conv2d                                    262144     True      \n",
              "BatchNorm2d                               2048       True      \n",
              "ReLU                                                           \n",
              "____________________________________________________________________________\n",
              "                     2 x 256 x 14 x 14   \n",
              "Conv2d                                    262144     True      \n",
              "BatchNorm2d                               512        True      \n",
              "Conv2d                                    589824     True      \n",
              "BatchNorm2d                               512        True      \n",
              "____________________________________________________________________________\n",
              "                     2 x 1024 x 14 x 14  \n",
              "Conv2d                                    262144     True      \n",
              "BatchNorm2d                               2048       True      \n",
              "ReLU                                                           \n",
              "____________________________________________________________________________\n",
              "                     2 x 256 x 14 x 14   \n",
              "Conv2d                                    262144     True      \n",
              "BatchNorm2d                               512        True      \n",
              "Conv2d                                    589824     True      \n",
              "BatchNorm2d                               512        True      \n",
              "____________________________________________________________________________\n",
              "                     2 x 1024 x 14 x 14  \n",
              "Conv2d                                    262144     True      \n",
              "BatchNorm2d                               2048       True      \n",
              "ReLU                                                           \n",
              "____________________________________________________________________________\n",
              "                     2 x 256 x 14 x 14   \n",
              "Conv2d                                    262144     True      \n",
              "BatchNorm2d                               512        True      \n",
              "Conv2d                                    589824     True      \n",
              "BatchNorm2d                               512        True      \n",
              "____________________________________________________________________________\n",
              "                     2 x 1024 x 14 x 14  \n",
              "Conv2d                                    262144     True      \n",
              "BatchNorm2d                               2048       True      \n",
              "ReLU                                                           \n",
              "____________________________________________________________________________\n",
              "                     2 x 256 x 14 x 14   \n",
              "Conv2d                                    262144     True      \n",
              "BatchNorm2d                               512        True      \n",
              "Conv2d                                    589824     True      \n",
              "BatchNorm2d                               512        True      \n",
              "____________________________________________________________________________\n",
              "                     2 x 1024 x 14 x 14  \n",
              "Conv2d                                    262144     True      \n",
              "BatchNorm2d                               2048       True      \n",
              "ReLU                                                           \n",
              "____________________________________________________________________________\n",
              "                     2 x 256 x 14 x 14   \n",
              "Conv2d                                    262144     True      \n",
              "BatchNorm2d                               512        True      \n",
              "Conv2d                                    589824     True      \n",
              "BatchNorm2d                               512        True      \n",
              "____________________________________________________________________________\n",
              "                     2 x 1024 x 14 x 14  \n",
              "Conv2d                                    262144     True      \n",
              "BatchNorm2d                               2048       True      \n",
              "ReLU                                                           \n",
              "____________________________________________________________________________\n",
              "                     2 x 256 x 14 x 14   \n",
              "Conv2d                                    262144     True      \n",
              "BatchNorm2d                               512        True      \n",
              "Conv2d                                    589824     True      \n",
              "BatchNorm2d                               512        True      \n",
              "____________________________________________________________________________\n",
              "                     2 x 1024 x 14 x 14  \n",
              "Conv2d                                    262144     True      \n",
              "BatchNorm2d                               2048       True      \n",
              "ReLU                                                           \n",
              "____________________________________________________________________________\n",
              "                     2 x 256 x 14 x 14   \n",
              "Conv2d                                    262144     True      \n",
              "BatchNorm2d                               512        True      \n",
              "Conv2d                                    589824     True      \n",
              "BatchNorm2d                               512        True      \n",
              "____________________________________________________________________________\n",
              "                     2 x 1024 x 14 x 14  \n",
              "Conv2d                                    262144     True      \n",
              "BatchNorm2d                               2048       True      \n",
              "ReLU                                                           \n",
              "____________________________________________________________________________\n",
              "                     2 x 256 x 14 x 14   \n",
              "Conv2d                                    262144     True      \n",
              "BatchNorm2d                               512        True      \n",
              "Conv2d                                    589824     True      \n",
              "BatchNorm2d                               512        True      \n",
              "____________________________________________________________________________\n",
              "                     2 x 1024 x 14 x 14  \n",
              "Conv2d                                    262144     True      \n",
              "BatchNorm2d                               2048       True      \n",
              "ReLU                                                           \n",
              "____________________________________________________________________________\n",
              "                     2 x 512 x 14 x 14   \n",
              "Conv2d                                    524288     True      \n",
              "BatchNorm2d                               1024       True      \n",
              "____________________________________________________________________________\n",
              "                     2 x 512 x 7 x 7     \n",
              "Conv2d                                    2359296    True      \n",
              "BatchNorm2d                               1024       True      \n",
              "____________________________________________________________________________\n",
              "                     2 x 2048 x 7 x 7    \n",
              "Conv2d                                    1048576    True      \n",
              "BatchNorm2d                               4096       True      \n",
              "ReLU                                                           \n",
              "Conv2d                                    2097152    True      \n",
              "BatchNorm2d                               4096       True      \n",
              "____________________________________________________________________________\n",
              "                     2 x 512 x 7 x 7     \n",
              "Conv2d                                    1048576    True      \n",
              "BatchNorm2d                               1024       True      \n",
              "Conv2d                                    2359296    True      \n",
              "BatchNorm2d                               1024       True      \n",
              "____________________________________________________________________________\n",
              "                     2 x 2048 x 7 x 7    \n",
              "Conv2d                                    1048576    True      \n",
              "BatchNorm2d                               4096       True      \n",
              "ReLU                                                           \n",
              "____________________________________________________________________________\n",
              "                     2 x 512 x 7 x 7     \n",
              "Conv2d                                    1048576    True      \n",
              "BatchNorm2d                               1024       True      \n",
              "Conv2d                                    2359296    True      \n",
              "BatchNorm2d                               1024       True      \n",
              "____________________________________________________________________________\n",
              "                     2 x 2048 x 7 x 7    \n",
              "Conv2d                                    1048576    True      \n",
              "BatchNorm2d                               4096       True      \n",
              "ReLU                                                           \n",
              "BatchNorm2d                               4096       True      \n",
              "ReLU                                                           \n",
              "____________________________________________________________________________\n",
              "                     2 x 4096 x 7 x 7    \n",
              "Conv2d                                    75501568   True      \n",
              "ReLU                                                           \n",
              "____________________________________________________________________________\n",
              "                     2 x 2048 x 7 x 7    \n",
              "Conv2d                                    75499520   True      \n",
              "ReLU                                                           \n",
              "____________________________________________________________________________\n",
              "                     2 x 4096 x 7 x 7    \n",
              "Conv2d                                    8392704    True      \n",
              "ReLU                                                           \n",
              "____________________________________________________________________________\n",
              "                     2 x 1024 x 14 x 14  \n",
              "PixelShuffle                                                   \n",
              "BatchNorm2d                               2048       True      \n",
              "Conv2d                                    37750784   True      \n",
              "ReLU                                                           \n",
              "Conv2d                                    37750784   True      \n",
              "ReLU                                                           \n",
              "ReLU                                                           \n",
              "____________________________________________________________________________\n",
              "                     2 x 4096 x 14 x 14  \n",
              "Conv2d                                    8392704    True      \n",
              "ReLU                                                           \n",
              "____________________________________________________________________________\n",
              "                     2 x 1024 x 28 x 28  \n",
              "PixelShuffle                                                   \n",
              "BatchNorm2d                               1024       True      \n",
              "Conv2d                                    21235200   True      \n",
              "ReLU                                                           \n",
              "Conv2d                                    21235200   True      \n",
              "ReLU                                                           \n",
              "ReLU                                                           \n",
              "____________________________________________________________________________\n",
              "                     2 x 3072 x 28 x 28  \n",
              "Conv2d                                    4721664    True      \n",
              "ReLU                                                           \n",
              "____________________________________________________________________________\n",
              "                     2 x 768 x 56 x 56   \n",
              "PixelShuffle                                                   \n",
              "BatchNorm2d                               512        True      \n",
              "Conv2d                                    9438208    True      \n",
              "ReLU                                                           \n",
              "Conv2d                                    9438208    True      \n",
              "ReLU                                                           \n",
              "ReLU                                                           \n",
              "____________________________________________________________________________\n",
              "                     2 x 2048 x 56 x 56  \n",
              "Conv2d                                    2099200    True      \n",
              "ReLU                                                           \n",
              "____________________________________________________________________________\n",
              "                     2 x 512 x 112 x 112 \n",
              "PixelShuffle                                                   \n",
              "BatchNorm2d                               128        True      \n",
              "____________________________________________________________________________\n",
              "                     2 x 288 x 112 x 112 \n",
              "Conv2d                                    1493280    True      \n",
              "ReLU                                                           \n",
              "Conv2d                                    746784     True      \n",
              "ReLU                                                           \n",
              "ReLU                                                           \n",
              "____________________________________________________________________________\n",
              "                     2 x 1152 x 112 x 11 \n",
              "Conv2d                                    332928     True      \n",
              "ReLU                                                           \n",
              "____________________________________________________________________________\n",
              "                     2 x 288 x 224 x 224 \n",
              "PixelShuffle                                                   \n",
              "ResizeToOrig                                                   \n",
              "____________________________________________________________________________\n",
              "                     2 x 291 x 224 x 224 \n",
              "MergeLayer                                                     \n",
              "Conv2d                                    762420     True      \n",
              "ReLU                                                           \n",
              "Conv2d                                    762420     True      \n",
              "Sequential                                                     \n",
              "ReLU                                                           \n",
              "____________________________________________________________________________\n",
              "                     2 x 2 x 224 x 224   \n",
              "Conv2d                                    584        True      \n",
              "ToTensorBase                                                   \n",
              "____________________________________________________________________________\n",
              "\n",
              "Total params: 358,062,128\n",
              "Total trainable params: 358,062,128\n",
              "Total non-trainable params: 0\n",
              "\n",
              "Optimizer used: <function Adam at 0x7f4f9974ea70>\n",
              "Loss function: FlattenedLoss of CrossEntropyLoss()\n",
              "\n",
              "Model unfrozen\n",
              "\n",
              "Callbacks:\n",
              "  - TrainEvalCallback\n",
              "  - CastToTensor\n",
              "  - Recorder\n",
              "  - ProgressCallback"
            ],
            "application/vnd.google.colaboratory.intrinsic+json": {
              "type": "string"
            }
          },
          "metadata": {},
          "execution_count": 42
        }
      ],
      "source": [
        "learn2.summary()"
      ]
    },
    {
      "cell_type": "markdown",
      "metadata": {
        "id": "YEodb2BQWQqp"
      },
      "source": [
        "### Train Model"
      ]
    },
    {
      "cell_type": "code",
      "execution_count": null,
      "metadata": {
        "id": "TRgW8MyHbMac",
        "colab": {
          "base_uri": "https://localhost:8080/",
          "height": 472
        },
        "outputId": "8d4a7d42-7c0b-4b13-db05-5d2fc3b6c5ff"
      },
      "outputs": [
        {
          "output_type": "display_data",
          "data": {
            "text/plain": [
              "<IPython.core.display.HTML object>"
            ],
            "text/html": [
              "\n",
              "<style>\n",
              "    /* Turns off some styling */\n",
              "    progress {\n",
              "        /* gets rid of default border in Firefox and Opera. */\n",
              "        border: none;\n",
              "        /* Needs to be in here for Safari polyfill so background images work as expected. */\n",
              "        background-size: auto;\n",
              "    }\n",
              "    progress:not([value]), progress:not([value])::-webkit-progress-bar {\n",
              "        background: repeating-linear-gradient(45deg, #7e7e7e, #7e7e7e 10px, #5c5c5c 10px, #5c5c5c 20px);\n",
              "    }\n",
              "    .progress-bar-interrupted, .progress-bar-interrupted::-webkit-progress-bar {\n",
              "        background: #F44336;\n",
              "    }\n",
              "</style>\n"
            ]
          },
          "metadata": {}
        },
        {
          "output_type": "display_data",
          "data": {
            "text/plain": [
              "<IPython.core.display.HTML object>"
            ],
            "text/html": []
          },
          "metadata": {}
        },
        {
          "output_type": "execute_result",
          "data": {
            "text/plain": [
              "SuggestedLRs(valley=1.737800812406931e-05)"
            ]
          },
          "metadata": {},
          "execution_count": 43
        },
        {
          "output_type": "display_data",
          "data": {
            "text/plain": [
              "<Figure size 640x480 with 1 Axes>"
            ],
            "image/png": "[encoded data removed]"
          },
          "metadata": {}
        }
      ],
      "source": [
        "# learning rate varies in every run as training set is created randomly by dataloader\n",
        "# training chooses in the next steps a slidly different lr\n",
        "learn2.lr_find()"
      ]
    },
    {
      "cell_type": "code",
      "execution_count": null,
      "metadata": {
        "id": "9OVo32mwcmBp",
        "colab": {
          "base_uri": "https://localhost:8080/",
          "height": 95
        },
        "outputId": "712c0b71-5a6f-4a57-d8e9-af435c676e5e"
      },
      "outputs": [
        {
          "output_type": "display_data",
          "data": {
            "text/plain": [
              "<IPython.core.display.HTML object>"
            ],
            "text/html": [
              "\n",
              "<style>\n",
              "    /* Turns off some styling */\n",
              "    progress {\n",
              "        /* gets rid of default border in Firefox and Opera. */\n",
              "        border: none;\n",
              "        /* Needs to be in here for Safari polyfill so background images work as expected. */\n",
              "        background-size: auto;\n",
              "    }\n",
              "    progress:not([value]), progress:not([value])::-webkit-progress-bar {\n",
              "        background: repeating-linear-gradient(45deg, #7e7e7e, #7e7e7e 10px, #5c5c5c 10px, #5c5c5c 20px);\n",
              "    }\n",
              "    .progress-bar-interrupted, .progress-bar-interrupted::-webkit-progress-bar {\n",
              "        background: #F44336;\n",
              "    }\n",
              "</style>\n"
            ]
          },
          "metadata": {}
        },
        {
          "output_type": "display_data",
          "data": {
            "text/plain": [
              "<IPython.core.display.HTML object>"
            ],
            "text/html": [
              "\n",
              "    <div>\n",
              "      <progress value='0' class='' max='5' style='width:300px; height:20px; vertical-align: middle;'></progress>\n",
              "      0.00% [0/5 00:00&lt;?]\n",
              "    </div>\n",
              "    \n",
              "<table border=\"1\" class=\"dataframe\">\n",
              "  <thead>\n",
              "    <tr style=\"text-align: left;\">\n",
              "      <th>epoch</th>\n",
              "      <th>train_loss</th>\n",
              "      <th>valid_loss</th>\n",
              "      <th>time</th>\n",
              "    </tr>\n",
              "  </thead>\n",
              "  <tbody>\n",
              "  </tbody>\n",
              "</table><p>\n",
              "\n",
              "    <div>\n",
              "      <progress value='2' class='' max='760' style='width:300px; height:20px; vertical-align: middle;'></progress>\n",
              "      0.26% [2/760 02:39&lt;16:44:47 0.7783]\n",
              "    </div>\n",
              "    "
            ]
          },
          "metadata": {}
        }
      ],
      "source": [
        "learn2.fit_one_cycle(10, 1.737800812406931e-05, cbs=[ShowGraphCallback()])"
      ]
    },
    {
      "cell_type": "code",
      "execution_count": null,
      "metadata": {
        "id": "x-Ax4_MNhxH9"
      },
      "outputs": [],
      "source": [
        "learn2.freeze_to(1)"
      ]
    },
    {
      "cell_type": "code",
      "execution_count": null,
      "metadata": {
        "id": "3ZP3bDsVhxKr"
      },
      "outputs": [],
      "source": [
        "learn2.summary()"
      ]
    },
    {
      "cell_type": "code",
      "execution_count": null,
      "metadata": {
        "id": "aiYG1qYHdWNB"
      },
      "outputs": [],
      "source": [
        "learn2.fit_one_cycle(1, 3.0199516913853586e-06, cbs=[ShowGraphCallback()])"
      ]
    },
    {
      "cell_type": "code",
      "execution_count": null,
      "metadata": {
        "id": "Xr_yxcQEcENB"
      },
      "outputs": [],
      "source": [
        "learn2.fine_tune(4, 3.0199516913853586e-07, cbs=[ShowGraphCallback()])\n",
        "# over trained, but varies in every run, to find optimal model adjust parameters every time notebook is run"
      ]
    },
    {
      "cell_type": "markdown",
      "metadata": {
        "id": "LDq0uM1ascsm"
      },
      "source": [
        "### Save Model"
      ]
    },
    {
      "cell_type": "code",
      "execution_count": null,
      "metadata": {
        "id": "u4zPbckUccJV"
      },
      "outputs": [],
      "source": [
        "learn2.save('/content/drive/MyDrive/Adrian/MLSeminar/ResNet/ResNet6')"
      ]
    },
    {
      "cell_type": "markdown",
      "metadata": {
        "id": "8tI8g8-7sgVv"
      },
      "source": [
        "### Load Model"
      ]
    },
    {
      "cell_type": "code",
      "execution_count": null,
      "metadata": {
        "id": "ZaWcBxa_smEA"
      },
      "outputs": [],
      "source": [
        "# same as in problem 1 dataloader and model required, where we load the model parameters into\n",
        "learn2.load('/content/drive/MyDrive/Adrian/MLSeminar/ResNet/ResNet6') # not exacly the model trained above, rather the model used on poster etc. but almoast identical training"
      ]
    },
    {
      "cell_type": "markdown",
      "metadata": {
        "id": "4FIMQP8Jh_hn"
      },
      "source": [
        "### Validation"
      ]
    },
    {
      "cell_type": "markdown",
      "metadata": {
        "id": "nyY-oz0QbH4z"
      },
      "source": [
        "Show some results"
      ]
    },
    {
      "cell_type": "code",
      "execution_count": null,
      "metadata": {
        "id": "lJh5cU1tfBDX"
      },
      "outputs": [],
      "source": [
        "learn2.show_results(cmap='Blues', vmin=0, vmax=1)"
      ]
    },
    {
      "cell_type": "markdown",
      "metadata": {
        "id": "jTxQnnIVa61u"
      },
      "source": [
        "Use interpretation class again"
      ]
    },
    {
      "cell_type": "code",
      "execution_count": null,
      "metadata": {
        "id": "Al1qWCBFaT2d"
      },
      "outputs": [],
      "source": [
        "interp = SegmentationInterpretation.from_learner(learn2)\n"
      ]
    },
    {
      "cell_type": "code",
      "execution_count": null,
      "metadata": {
        "id": "Cn_IxXZtx3pn"
      },
      "outputs": [],
      "source": [
        "interp.plot_top_losses(k=10)"
      ]
    },
    {
      "cell_type": "markdown",
      "metadata": {
        "id": "VEbJxB33a4AX"
      },
      "source": [
        "### Get predictions for 20 evaluation mixed fractures\n",
        "\n",
        "First create a new method, to get predicitons for every image in the folder\n"
      ]
    },
    {
      "cell_type": "code",
      "execution_count": null,
      "metadata": {
        "id": "3gZNd7kd-Wn1"
      },
      "outputs": [],
      "source": [
        "import numpy as np\n",
        "import matplotlib.pyplot as plt\n",
        "import os\n",
        "import skimage\n",
        "from skimage.draw import ellipse\n",
        "from skimage.measure import label, regionprops, regionprops_table\n",
        "from skimage.transform import rotate\n",
        "from skimage import filters, morphology, measure\n",
        "import plotly.express as px\n",
        "import plotly\n",
        "import torch\n",
        "import cv2 as cv\n",
        "\n",
        "\n",
        "min_size = 9025 # hier die Flughöheneinstellung, bisher Überschlagsrechnung\n",
        "Kernelsize=45 # Kernel als integer, kein Tupel\n",
        "o=0\n",
        "\n",
        "def get_duk_percent(imagepath, model):\n",
        "  '''Method that gets a predictions for an image and then counts ductile pixels\n",
        "     to get ductile percentage of the image\n",
        "\n",
        "     Parameters:\n",
        "     imagepath (str): path to the image\n",
        "     model: name of the model has to be loaded before\n",
        "\n",
        "     Returns: ductile percentage\n",
        "  '''\n",
        "  size = len(np.array(model.predict(imagepath)[0][1]))\n",
        "  index = 0\n",
        "  size1 = len(np.array(model.predict(imagepath)[0]))\n",
        "  prediction = model.predict(imagepath)\n",
        "  sum = 0\n",
        "  counter = 0\n",
        "\n",
        "  print(size)\n",
        "  print(size1)\n",
        "\n",
        "  duk = prediction[0].sum()\n",
        "  print(\"ductil: \" + str(round(float(duk),ndigits=2)))\n",
        "\n",
        "  print(\"Percentage ductil = \" + str(round(float(1-round(float(duk)/(size*size1),ndigits=2)),ndigits=2)))\n",
        "\n",
        "  # heatmap\n",
        "  imagep = str(imagepath)\n",
        "  dl = model.dls.test_dl(imagep)\n",
        "  preds = model.get_preds(dl=dl)\n",
        "  pred_1 = preds[0][0]\n",
        "\n",
        "\n",
        "  pred_im = model.predict(imagepath)[0]\n",
        "  pred_im\n",
        "  mask_fn = imagepath\n",
        "  mask = PILImage.create(mask_fn)\n",
        "\n",
        "  print(imagepath)\n",
        "\n",
        "  Image1 = mask\n",
        "  Image2 = pred_im\n",
        "  print(pred_im)\n",
        "  Image3 = pred_1[1]\n",
        "  pred_im = pred_im.numpy()\n",
        "  print(pred_im.shape)\n",
        "  Image4 = Flughohenfilter(pred_im,min_size=min_size) #neu hier min size in pixel angeben\n",
        "  Image4NP = Image4.astype(np.float64) #/ info.max # normalize the data to 0 - 1\n",
        "  print(\"Image4NP\")\n",
        "  Image4NP = 255 * Image4NP # Now scale by 255\n",
        "  Image4NP = Image4NP.astype(np.uint8)\n",
        "\n",
        "  Image5=Medianfilter(Image4NP,45,Iterationen=4)\n",
        "  Image5=np.array(Image5, dtype=int)*255\n",
        "  fig = plt.figure(figsize=(8, 8))\n",
        "  Image5NP = Image5.astype(np.float64) #/ info.max # normalize the data to 0 - 1\n",
        "  Image5NP = 255 * Image5NP # Now scale by 255\n",
        "  Image5NP = Image5NP.astype(np.uint8)\n",
        "\n",
        "  Image6=Contour(imagepath, Image5NP)\n",
        "\n",
        "  Image6.save('ax2_figure.png')\n",
        "\n",
        "\n",
        "  rows = 1\n",
        "  columns = 6 #neu\n",
        "\n",
        "\n",
        "  # Adds a subplot at the 1st position\n",
        "  fig.add_subplot(rows, columns, 1)\n",
        "\n",
        "  # showing image\n",
        "  plt.imshow(Image1)\n",
        "  plt.axis('off')\n",
        "  plt.title(str(imagep[len(imagep)-18:]))\n",
        "\n",
        "  # Adds a subplot at the 2nd position\n",
        "  fig.add_subplot(rows, columns, 2)\n",
        "\n",
        "  # showing image\n",
        "  plt.imshow(Image2)\n",
        "  plt.axis('off')\n",
        "  plt.title(\"ductil: \" + str(round(float(1-round(float(duk)/(size*size1),ndigits=2)),ndigits=2)))\n",
        "\n",
        "  # Adds a subplot at the 3rd position\n",
        "  fig.add_subplot(rows, columns, 3)\n",
        "\n",
        "  # showing image\n",
        "  plt.imshow(Image3)\n",
        "  plt.axis('off')\n",
        "  plt.title(\"certainty\")\n",
        "\n",
        "  # Adds a subplot at the 4th position neu\n",
        "  fig.add_subplot(rows, columns, 4)\n",
        "\n",
        "  plt.imshow(Image4)\n",
        "  plt.axis('off')\n",
        "  plt.title(label=os.path.join(\"filtered\"+str(min_size)+\"px^2\"))\n",
        "\n",
        "  # Adds a subplot at the 5th position neu\n",
        "  fig.add_subplot(rows, columns, 5)\n",
        "  plt.imshow(Image5)\n",
        "  plt.axis('off')\n",
        "  plt.title(label=os.path.join(\"Med\"))\n",
        "  plt.imshow(Image5, cmap='gray', vmin=0, vmax=255)\n",
        "\n",
        "  # Adds a subplot at the 5th position neu\n",
        "  fig.add_subplot(rows, columns, 6)\n",
        "  plt.imshow(Image6)\n",
        "  plt.axis('off')\n",
        "  plt.title(label=os.path.join(\"Overlay\"))\n",
        "  plt.imshow(Image6, cmap='gray', vmin=0, vmax=255)\n",
        "\n",
        "\n",
        "  #uncomment this part if the predictions should be save directly somewhere + set path to destination verschoben zu pred_folder\n",
        "  #os.chdir('/content/drive/MyDrive/Adrian/MLSeminar/ResNet/Umfrage')\n",
        "  #plt.savefig(str(i+1), dpi=150)\n",
        "\n",
        "\n",
        "  return (1-float(sum)/(size*size1))\n",
        "\n",
        "def Contour(Original, img):\n",
        "  #Maske binarisiert laden\n",
        "  #im_gray = np.array(Image.open(img).convert('L'))\n",
        "  im_gray = np.array(Image.open(Original).convert('L'))\n",
        "  contours, hierarchy = cv.findContours(img, cv.RETR_TREE, cv.CHAIN_APPROX_NONE)\n",
        "  #normales Eingabebild zuerst, als zweites Contour der Maske\n",
        "  Contour=cv.drawContours(im_gray, contours, -1, (0,255,0), 3)\n",
        "  Contour=Image.fromarray(Contour)\n",
        "  print(\"Contour\")\n",
        "  display(Contour)\n",
        "  return Contour\n",
        "\n",
        "\n",
        "\n",
        "def Flughohenfilter(mask, min_size):\n",
        "    'Filter to eliminate areas below threshold size given as min_size'\n",
        "    mask=255*mask\n",
        "    filtered = mask>254\n",
        "    'Picture threshold so that remove command will function properly'\n",
        "    #display(filtered)\n",
        "    filteredmask = morphology.remove_small_objects(filtered, min_size=min_size, connectivity=1, in_place=True)\n",
        "    filteredmask2 = morphology.remove_small_holes(filteredmask, area_threshold=min_size, connectivity=1, in_place=True)\n",
        "    #plt.imshow(mask)\n",
        "    #plt.show()\n",
        "    'retransform the image'\n",
        "    filteredmask2=np.array(filteredmask2, dtype=int)*255\n",
        "    #display(filteredmask2)\n",
        "    return (filteredmask2)\n",
        "\n",
        "def Medianfilter (arr, Kernelsize, Iterationen):\n",
        "  #rows=1\n",
        "  #columns=Iterationen\n",
        "  for i in range (1,Iterationen):\n",
        "      median=cv.medianBlur(arr,Kernelsize)\n",
        "      median=np.array(median, dtype=int)*255\n",
        "      #fig = plt.figure(figsize=(8, 8))\n",
        "      medianNP = median.astype(np.float64) #/ info.max # normalize the data to 0 - 1\n",
        "      medianNP = 255 * medianNP # Now scale by 255\n",
        "      medianNP = medianNP.astype(np.uint8) # ist deswegen das Bild in der Ausgabe vlt. schwarz weiß?\n",
        "      arr=medianNP\n",
        "\n",
        "\n",
        "      #fig.add_subplot(rows, columns, 4)\n",
        "      #plt.imshow(median)\n",
        "      #plt.axis('off')\n",
        "      #plt.title(label=os.path.join(\"Medx\",str(i)))\n",
        "      #plt.imshow(median, cmap='gray', vmin=0, vmax=255)\n",
        "\n",
        "\n",
        "  return medianNP\n",
        "\n",
        "def pred_folder(folderpath, model):\n",
        "  '''Methode that get ductile percentages for every image in a folder\n",
        "  '''\n",
        "  fnames = get_image_files(folderpath)\n",
        "  num = len(fnames)\n",
        "  i = 0\n",
        "  fsum = 0\n",
        "\n",
        "  while (i < num):\n",
        "    fsum = fsum + get_duk_percent(fnames[i], model)\n",
        "    print(\"=============================\")\n",
        "    i += 1\n",
        "    os.chdir('/content/drive/MyDrive/Adrian/MLSeminar/ResNet/Umfrage 2 trainiert mit 2000 Bildern')\n",
        "    #MedBilder werden noch nicht gespeichert\n",
        "    plt.savefig(str(i+1), dpi=150)\n",
        "    Overlay=Image.open('ax2_figure.png')\n",
        "    Overlay.save(os.path.join('Overlay'+str(i+1)),format=\"png\")\n",
        "  return"
      ]
    },
    {
      "cell_type": "code",
      "execution_count": null,
      "metadata": {
        "id": "mOdje2lme9G4"
      },
      "outputs": [],
      "source": [
        "# the predictions for the model\n",
        "pred_folder(\"/content/drive/My Drive/Adrian/MLSeminar/TP1:Trainingdata/1.3.3 Umfrage Makrobilder\",learn2)\n",
        "os.listdir(\"/content/drive/My Drive/Adrian/MLSeminar/TP1:Trainingdata/1.3.3 Umfrage 2 Makrobilder/\")"
      ]
    },
    {
      "cell_type": "markdown",
      "metadata": {
        "id": "VFoQDeBQc-8o"
      },
      "source": [
        "### Get IOU for a test set (experimental)\n",
        "\n",
        "Results of IOU do not make any sense classes are changes randomly, on single images I could validate the IOU getting a prediction of an IOU of around 70% for the model, but the following method does not work properly. Predictions in the methods above make sense, just this one is strange.\n",
        "\n"
      ]
    },
    {
      "cell_type": "code",
      "execution_count": null,
      "metadata": {
        "id": "jofQ5XXMPHFg"
      },
      "outputs": [],
      "source": [
        "# get iou for a folder\n",
        "\n",
        "regex = re.compile(r'\\d+$')\n",
        "\n",
        "def get_msk_hlp2(image):\n",
        "  imgname = image[:len(image)-4]\n",
        "  num = str(regex.findall(imgname)[0])\n",
        "  labelname = '/content/gdrive/MyDrive/Bruchbilder/data/validation/masks/Result_bw'+num+'.png'\n",
        "  return labelname\n",
        "\n",
        "def get_iou1(path_image, model):\n",
        "  prediction = model.predict(path_image)[0]\n",
        "  mask = get_msk_hlp2(path_image)\n",
        "  mask_array = np.array(PILImage.create(mask))\n",
        "  pred_array = prediction\n",
        "  size = len(pred_array)\n",
        "  indexrow = 0\n",
        "  indexcol = 0\n",
        "  counter_cons = 0\n",
        "  counter_size = 0\n",
        "  counter = 0\n",
        "\n",
        "  #start comparing each image\n",
        "  while indexrow < size:\n",
        "    while indexcol < size:\n",
        "      if (mask_array[indexrow][indexcol][0] == 255) and (pred_array[indexrow][indexcol] == 1):\n",
        "        counter_cons += 1\n",
        "      if (mask_array[indexrow][indexcol][0] == 255) or (pred_array[indexrow][indexcol] == 1):\n",
        "        counter_size += 1\n",
        "      indexcol += 1\n",
        "      counter += 1\n",
        "    indexcol = 0\n",
        "    indexrow +=1\n",
        "\n",
        "  indexrow = 0\n",
        "  indexcol = 0\n",
        "\n",
        "  print(\"=====================\")\n",
        "  print(\"consens:\" + str(counter_cons))\n",
        "  print(\"size: \" + str(counter_size))\n",
        "  print(\"control: \" + str(counter))\n",
        "  print(\"IOU: \" + str(counter_cons/counter_size))\n",
        "  print(mask)\n",
        "\n",
        "  Image1 = PILImage.create(mask)\n",
        "  Image2 = prediction\n",
        "  Image3 = PILImage.create(path_image)\n",
        "\n",
        "  fig = plt.figure(figsize=(8, 8))\n",
        "  rows = 1\n",
        "  columns = 3\n",
        "\n",
        "\n",
        "  # Adds a subplot at the 1st position\n",
        "  fig.add_subplot(rows, columns, 1)\n",
        "\n",
        "  # showing image\n",
        "  plt.imshow(Image1)\n",
        "  plt.axis('off')\n",
        "  #plt.title(str(imagep[len(imagep)-18:]))\n",
        "\n",
        "  # Adds a subplot at the 2nd position\n",
        "  fig.add_subplot(rows, columns, 2)\n",
        "\n",
        "  # showing image\n",
        "  plt.imshow(Image2)\n",
        "  plt.axis('off')\n",
        "  #plt.title(\"ductil: \" + str(1-round(float(duk)/(size*size1),3)))\n",
        "\n",
        "  # Adds a subplot at the 2nd position\n",
        "  fig.add_subplot(rows, columns, 3)\n",
        "  plt.imshow(Image3)\n",
        "  plt.axis('off')\n",
        "\n",
        "  return counter_cons/counter_size\n",
        "\n",
        "\n",
        "def iou_folder(pic_folder,model):\n",
        "  files = get_image_files(pic_folder)\n",
        "  size = len(files)\n",
        "  index = 0\n",
        "  iou_sum = 0\n",
        "\n",
        "  while (index) < size:\n",
        "    img_name = pic_folder + '/' + files[index].name\n",
        "    iou_sum += get_iou1(img_name,model)\n",
        "    index += 1\n",
        "\n",
        "  print(\"---------------------\")\n",
        "  print(\"IOU mean: \" + str(iou_sum/size))\n",
        "\n",
        "  return iou_sum/size"
      ]
    },
    {
      "cell_type": "code",
      "execution_count": null,
      "metadata": {
        "id": "TN_OvHEauGYC"
      },
      "outputs": [],
      "source": [
        "#iou_folder(\"/content/gdrive/MyDrive/Bruchbilder/data/validation/pictures\",learn2)\n",
        "# something is going wrong here in some predictions purple is ductile in some brittle\n",
        "# just here the case, the other predictions are correct"
      ]
    }
  ]
}